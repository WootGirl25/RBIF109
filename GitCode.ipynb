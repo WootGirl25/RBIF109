{
 "cells": [
  {
   "cell_type": "markdown",
   "metadata": {},
   "source": [
    "### What is the .DS_Store files on GitHub and how do I remove them?\n",
    ".DS_Store files are hidden files created by macOS's Finder. They store information about the folder's appearance, such as icon positions, window sizes, and view settings1. While useful on macOS, they can clutter your Git repository because they are specific to macOS and not needed on other platforms like Windows or Linux.\n",
    "\n",
    "**To remove `.DS_Store` files from your GitHub repository, follow these steps:**\n",
    "\n",
    "1. **Remove the files from your local repository**:  \n",
    "   find . -name .DS_Store -print0 | xargs -0 git rm --ignore-unmatch\n",
    "\n",
    "2. **Commit the changes & push:**  \n",
    "    git commit -m \"Remove .DS_Store files\"\n",
    "    git push origin main\n",
    "\n",
    "3. **Prevent future `.DS_Store` files from being tracked by adding to .gitignore**  \n",
    "    echo .DS_Store >> .gitignore  \n",
    "    git add .gitignore  \n",
    "    git commit -m \"Update .gitignore to ignore .DS_Store files\"  \n",
    "    git push origin main\n",
    "\n"
   ]
  }
 ],
 "metadata": {
  "language_info": {
   "name": "python"
  }
 },
 "nbformat": 4,
 "nbformat_minor": 2
}

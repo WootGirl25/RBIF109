{
 "cells": [
  {
   "cell_type": "markdown",
   "id": "a1d50797-0676-4f87-8e9c-7fc266f99cb2",
   "metadata": {},
   "source": [
    "### Image to Text\n",
    "> Optical character recognition (OCR) using Tesseract library in Anaconda Cloud\n",
    "\n",
    "Steps:\n",
    "1. Create venv on CondaCloud > Don't have permissions on work comp.\n",
    "2. Install ipykernel & add venv to Jupyter > this package allows Jupyter to recognize your venv as a kernel.\n",
    "3. Run code to convert image to text."
   ]
  },
  {
   "cell_type": "markdown",
   "id": "c0e7e37c-ec58-4aa6-91b9-82110f4a337e",
   "metadata": {},
   "source": [
    "> 1. Create a new environment\n",
    ">    \n",
    "> This environment was created in /RBIF109/Discussions,\n",
    "> named \"mmyenv\""
   ]
  },
  {
   "cell_type": "code",
   "execution_count": null,
   "id": "de973408-d62a-4801-8860-6750a6174332",
   "metadata": {},
   "outputs": [],
   "source": [
    "conda create -n myenv python=3.9\n",
    "conda activate myenv\n",
    "conda install -c conda-forge tesseract pytesseract"
   ]
  },
  {
   "cell_type": "markdown",
   "id": "ee18b7c0-c8b1-4a90-8eb9-a82b216f79e8",
   "metadata": {},
   "source": [
    ">2. Install ipykernel & add venv to Jupyter"
   ]
  },
  {
   "cell_type": "code",
   "execution_count": null,
   "id": "cc2d48be-b511-4753-9ad1-b60e9297b51d",
   "metadata": {},
   "outputs": [],
   "source": [
    "#if haven't already, activate your virtual env\n",
    "conda activate mmyenv\n",
    "\n",
    "#install ipykernel in the venv\n",
    "pip install ipykernel\n",
    "\n",
    "#add venv to Jupyter\n",
    "python -m ipykernel install --user --name=mmyenv --display-name \"Python (mmyenv)\"\n",
    "\n",
    "#open the jupyter notebook, go to the \"kernel\" menu, change kernel, and select \"Python (mmyenv)\" from list\n"
   ]
  },
  {
   "cell_type": "markdown",
   "id": "33204c96-511e-4ea6-9694-1b2f69e758c4",
   "metadata": {},
   "source": [
    ">3. run code to convert image to text\n",
    ">\n",
    ">   Note: depending on amount of text, conversion may take a few minutes."
   ]
  },
  {
   "cell_type": "code",
   "execution_count": null,
   "id": "0d0a811c-4ea0-49de-9b91-01cfa7424fba",
   "metadata": {},
   "outputs": [],
   "source": [
    "#Make sure you have uploaded image into directory\n",
    "\n",
    "from PIL import Image\n",
    "import pytesseract\n",
    "\n",
    "#load the image from file\n",
    "image = Image.open('./Shola_code.png')\n",
    "\n",
    "# Use pytesseract to do OCR on the image\n",
    "text = pytesseract.image_to_string(image)\n",
    "\n",
    "print(text)"
   ]
  },
  {
   "cell_type": "markdown",
   "id": "bf538985-f0a3-4ed5-a337-6c2cd279d268",
   "metadata": {},
   "source": [
    "I noticed when doing this there were some mistakes. some : were missed, and other letters were capitalized. but still seemed quicker that typing it all out. "
   ]
  },
  {
   "cell_type": "markdown",
   "id": "e765a701-8d62-4fc3-809f-16ee51a44901",
   "metadata": {},
   "source": [
    "> 4. When finished, close the venv"
   ]
  },
  {
   "cell_type": "code",
   "execution_count": null,
   "id": "bf8e9d22-7169-4769-af47-edcad39dd3ae",
   "metadata": {},
   "outputs": [],
   "source": [
    "conda deactivate"
   ]
  }
 ],
 "metadata": {
  "kernelspec": {
   "display_name": ".conda-mmyenv",
   "language": "python",
   "name": "conda-env-.conda-mmyenv-py"
  },
  "language_info": {
   "codemirror_mode": {
    "name": "ipython",
    "version": 3
   },
   "file_extension": ".py",
   "mimetype": "text/x-python",
   "name": "python",
   "nbconvert_exporter": "python",
   "pygments_lexer": "ipython3",
   "version": "3.9.18"
  }
 },
 "nbformat": 4,
 "nbformat_minor": 5
}

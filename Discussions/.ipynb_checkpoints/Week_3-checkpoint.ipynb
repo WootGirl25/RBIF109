{
 "cells": [
  {
   "cell_type": "markdown",
   "metadata": {},
   "source": [
    "###Week 3 Discussion Questions:\n",
    "Please answer the questions to your fullest in conjunction with the expectations outlined in the syllabus for discussion. \n",
    "\n",
    "1. Implement the in silico PCR function (Page 15 of Wk2 lecture notes; in Python preferentially). Test your function on any sequence with a pair of primer sequence to prove its utility (either sequences from databases or synthetic sequences are OK.)\n",
    "\n",
    "> Given two primers and a DNA sequence, can you come up with a function to return the in silico PCR product?"
   ]
  },
  {
   "cell_type": "code",
   "execution_count": null,
   "metadata": {},
   "outputs": [],
   "source": [
    "#generate random sequence\n",
    "import random\n",
    "\n",
    "def generate_random_nucleotide_seq(length):\n",
    "    nucleotides = ['A', 'T', 'C', 'G']\n",
    "    sequence = ''\n",
    "    for x in range(length):\n",
    "        index = random.randint(0,3)\n",
    "        sequence += nucleotides[index]\n",
    "    return sequence\n",
    "\n",
    "\n",
    "print(generate_random_nucleotide_seq(100))"
   ]
  },
  {
   "cell_type": "code",
   "execution_count": 7,
   "metadata": {},
   "outputs": [],
   "source": [
    "def reverse_complement(sequence):\n",
    "    nucleotide_dict = {'A':'T', 'C':'G', 'G':'C', 'T':'A'}\n",
    "    rc = ''\n",
    "\n",
    "    for i in range(len(sequence)):\n",
    "        nuc = sequence[-(i+1)]\n",
    "        rc += (nucleotide_dict[nuc])\n",
    "\n",
    "    return rc\n",
    "\n",
    "\n",
    "def run_pcr(sequence,forwardP, reverseP):\n",
    "    #find index of forward primer\n",
    "    forward_i = sequence.find(forwardP)\n",
    "\n",
    "    #find reverse comp of reverse primer, and index\n",
    "    rc_reverseP = reverse_complement(reverseP)\n",
    "    reverse_i = sequence.find(rc_reverseP)\n",
    "\n",
    "\n",
    "    if forward_i == -1 or reverse_i == -1: #if either primer not found\n",
    "        return None\n",
    "    elif forward_i >= reverse_i: #make sure primers are in correct positions\n",
    "        return None\n",
    "    else:\n",
    "        return sequence[forward_i:reverse_i+len(reverseP)] # to include reverse primer in final seq.\n",
    "\n",
    "\n"
   ]
  },
  {
   "cell_type": "code",
   "execution_count": 8,
   "metadata": {},
   "outputs": [
    {
     "name": "stdout",
     "output_type": "stream",
     "text": [
      "TATTTGTGTGTCTCCTCCTAACATTTGAGTAACTGTTCTATTATATCGCAATGTCTCTGAGTTAGTGAGATTGATCGTTTTCCCACCTAAAGACAA\n"
     ]
    }
   ],
   "source": [
    "\n",
    "sequence = \"AGGCTATTTGTGTGTCTCCTCCTAACATTTGAGTAACTGTTCTATTATATCGCAATGTCTCTGAGTTAGTGAGATTGATCGTTTTCCCACCTAAAGACAATGTTGGGTTT\"\n",
    "forwardP = \"TATTTGTGTGTCT\"\n",
    "reverseP = \"TTGTCTTTAGGTG\"\n",
    "\n",
    "pcr_product = run_pcr(sequence, forwardP, reverseP)\n",
    "print(pcr_product)\n"
   ]
  },
  {
   "cell_type": "markdown",
   "metadata": {},
   "source": [
    "2. Implement the K-mer counting function (Page 16 of Wk2 lecture notes; in Python preferentially). Test your function on any sequence to prove its utility (either sequences from databases or synthetic sequences are OK.)\n",
    "\n",
    ">Can you modify the code above to find the most frequent k-mer in a list of sequences rather than just one sequence?"
   ]
  },
  {
   "cell_type": "code",
   "execution_count": 45,
   "metadata": {},
   "outputs": [],
   "source": [
    "def most_frequent_kmer_in_list_old(sequence_list,k):\n",
    "    top_counts = {}\n",
    "    for sequence in sequence_list:\n",
    "        length=len(sequence)\n",
    "        if k>length:\n",
    "            continue\n",
    "        else:\n",
    "            if k==length:\n",
    "                top_counts[sequence] = 1\n",
    "            else:\n",
    "                dic_count={}  #the dictionary to store the count of kmers\n",
    "                for i in range(length-k+1):\n",
    "                    kmer=sequence[i:i+k]\n",
    "                    if kmer not in dic_count:\n",
    "                        dic_count[kmer]=1\n",
    "                    else:\n",
    "                        dic_count[kmer]+=1\n",
    "                value_key_list = [(value, key) for key, value in dic_count.items()]\n",
    "                top_counts[max(value_key_list)[1]] = max(value_key_list)[0]\n",
    "    top_counts_list = [(value, key) for key, value in top_counts.items()]\n",
    "    return max(top_counts_list)[1], max(top_counts_list)[0]"
   ]
  },
  {
   "cell_type": "code",
   "execution_count": 61,
   "metadata": {},
   "outputs": [
    {
     "name": "stdout",
     "output_type": "stream",
     "text": [
      "('CGC', 6)\n"
     ]
    }
   ],
   "source": [
    "sequence_list = [\"AATCATTATGTTCTGGACCAGCAAGTCTGTCGGCAGCGCTAATTCCAAACAGCTTTTGTCTTAGGCGAGGATGGGGGCAAACGCTGAGCCCAGTACAGTG\", \"TCAGGAGCGCCCGTACCGCGCTTCCAGTAAACCCGCCAATTCTGTTACCGGAACCGACGCCGCGTTTAGCAACTTAACTGCCCGGCGCCACCTGGTCACG\",\"TCAGGAGCGCCCGTACCGCGCTTCCAGTAAACCCGCCAATTCTGTTACCGGAACCGACGCCGCGTTTAGCAACTT\"]\n",
    "print(most_frequent_kmer_in_list_old(sequence_list, 3))\n"
   ]
  },
  {
   "cell_type": "markdown",
   "metadata": {},
   "source": [
    "Josh pointed out that my function does not have a counter when adding to top_counts, and instead overwrites each time the same kmer is found! Updated 1/27/25:"
   ]
  },
  {
   "cell_type": "code",
   "execution_count": 49,
   "metadata": {},
   "outputs": [],
   "source": [
    "def most_frequent_kmer_in_list(sequence_list,k):\n",
    "    top_counts = {}\n",
    "    for sequence in sequence_list:\n",
    "        length= len(sequence)\n",
    "        if k > length:\n",
    "            continue\n",
    "        else:\n",
    "            dic_count = {}  # Dictionary to store the count of k-mers\n",
    "            for i in range(length - k + 1):\n",
    "                kmer = sequence[i:i + k]\n",
    "                if kmer not in dic_count:\n",
    "                    dic_count[kmer] = 1\n",
    "                else:\n",
    "                    dic_count[kmer] += 1\n",
    "            value_key_list = [(value, key) for key, value in dic_count.items()]\n",
    "            max_kmer = max(value_key_list)[1]\n",
    "            max_count = max(value_key_list)[0]\n",
    "            # Update top_counts with the most frequent k-mer - check if kmer already in top_counts\n",
    "            if max_kmer in top_counts:\n",
    "                top_counts[max_kmer] += max_count\n",
    "            else:\n",
    "                top_counts[max_kmer] = max_count\n",
    "    top_counts_list = [(value, key) for key, value in top_counts.items()]\n",
    "    return max(top_counts_list)[1], max(top_counts_list)[0]"
   ]
  },
  {
   "cell_type": "code",
   "execution_count": 63,
   "metadata": {},
   "outputs": [
    {
     "name": "stdout",
     "output_type": "stream",
     "text": [
      "('CGC', 13)\n"
     ]
    }
   ],
   "source": [
    "sequence_list = [\"AATCATTATGTTCTGGACCAGCAAGTCTGTCGGCAGCGCTAATTCCAAACAGCTTTTGTCTTAGGCGAGGATGGGGGCAAACGCTGAGCCCAGTACAGTG\", \"TCAGGAGCGCCCGTACCGCGCTTCCAGTAAACCCGCCAATTCTGTTACCGGAACCGACGCCGCGTTTAGCAACTTAACTGCCCGGCGCCACCTGGTCACG\",\"TCAGGAGCGCCCGTACCGCGCTTCCAGTAAACCCGCCAATTCTGTTACCGGAACCGACGCCGCGTTTAGCAACTT\"]\n",
    "print(most_frequent_kmer_in_list(sequence_list, 3))\n"
   ]
  },
  {
   "cell_type": "markdown",
   "metadata": {},
   "source": [
    "Testing Shola's code for a response\n"
   ]
  },
  {
   "cell_type": "code",
   "execution_count": 1,
   "metadata": {},
   "outputs": [
    {
     "name": "stdout",
     "output_type": "stream",
     "text": [
      "def most_frequent_kmer(sequence, k)\n",
      "Length=len (sequence)\n",
      "if k>length:\n",
      "return \"k is bigger than the length of the sequence\"\n",
      "else:\n",
      "if k==length:\n",
      "return sequence\n",
      "else:\n",
      "dic_count= {}\n",
      "for i in range(length-k+1):\n",
      "kmer=sequence[i: it+k]\n",
      "if kmer not in dic_count:\n",
      "dic_count [kmer]=1\n",
      "else:\n",
      "dic_count [kmer]=1\n",
      "value_key_list= [(value, key) for key, value in dic_count.items()]\n",
      "return max(value_key_list) [1]\n",
      "\n",
      "#most_frequent_kmer(\"ATGCTGCCGTAATGCCGATCAACGTCGGACTATGC\", 4)\n",
      "\n",
      "sequence_list= [\"TCAGGTCTCTGAGCGACAAAAGCTTTAAAGGGAAA\", \"TTCGCGCCCATAACTTGGTCCGAATACGGGTTCTT\",\n",
      "\"GCATCGTTCGACTGAGTTTGTTTTATATAAAACGG\", \"GCGCAATGTCTGCTTTGATCAACCTCCAATACCTC\"]\n",
      "\n",
      "for seq in sequence_list:\n",
      "print(most_frequent_kmer(seq, 4) )\n",
      "\n"
     ]
    }
   ],
   "source": [
    "from PIL import Image\n",
    "import pytesseract\n",
    "\n",
    "#load the image from file\n",
    "image = Image.open('./Shola_code.png')\n",
    "\n",
    "# Use pytesseract to do OCR on the image\n",
    "text = pytesseract.image_to_string(image)\n",
    "\n",
    "print(text)"
   ]
  },
  {
   "cell_type": "code",
   "execution_count": 34,
   "metadata": {},
   "outputs": [
    {
     "name": "stdout",
     "output_type": "stream",
     "text": [
      "('AAAG', 2)\n"
     ]
    }
   ],
   "source": [
    "#Shola's code\n",
    "def most_frequent_kmer(sequence, k):\n",
    "    length=len (sequence)\n",
    "    if k>length:\n",
    "        return \"k is bigger than the length of the sequence\"\n",
    "    else:\n",
    "        if k==length:\n",
    "            return sequence\n",
    "        else:\n",
    "            dic_count= {}\n",
    "            for i in range(length-k+1):\n",
    "                kmer=sequence[i: i+k]\n",
    "                if kmer not in dic_count:\n",
    "                    dic_count [kmer]=1\n",
    "                else:\n",
    "                    dic_count [kmer]+=1\n",
    "    value_key_list= [(value, key) for key, value in dic_count.items()]\n",
    "    return max(value_key_list)[1], max(value_key_list)[0]\n",
    "\n",
    "#most_frequent_kmer(\"ATGCTGCCGTAATGCCGATCAACGTCGGACTATGC\", 4)\n",
    "\n",
    "sequence_list= [\"TCAGGTCTCTGAGCGACAAAAGCTTTAAAGGGAAA\", \"TTCGCGCCCATAACTTGGTCCGAATACGGGTTCTT\",\n",
    "\"GCATCGTTCGACTGAGTTTGTTTTATATAAAACGG\", \"GCGCAATGTCTGCTTTGATCAACCTCCAATACCTC\"]\n",
    "\n",
    "top_kmers = []\n",
    "for seq in sequence_list:\n",
    "    top_kmers.append(most_frequent_kmer(seq, 4))\n",
    "max_kmer = max(top_kmers, key=lambda x: x[1])\n",
    "print(max_kmer)"
   ]
  },
  {
   "cell_type": "markdown",
   "metadata": {},
   "source": [
    "Decided that this wouldn't work. You have to have it all within the function."
   ]
  }
 ],
 "metadata": {
  "kernelspec": {
   "display_name": ".conda-mmyenv",
   "language": "python",
   "name": "conda-env-.conda-mmyenv-py"
  },
  "language_info": {
   "codemirror_mode": {
    "name": "ipython",
    "version": 3
   },
   "file_extension": ".py",
   "mimetype": "text/x-python",
   "name": "python",
   "nbconvert_exporter": "python",
   "pygments_lexer": "ipython3",
   "version": "3.9.18"
  }
 },
 "nbformat": 4,
 "nbformat_minor": 4
}

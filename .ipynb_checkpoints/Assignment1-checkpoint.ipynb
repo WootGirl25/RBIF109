{
 "cells": [
  {
   "cell_type": "markdown",
   "id": "9ab1d849-dc4e-425b-a7a8-c0e8452b23e8",
   "metadata": {},
   "source": [
    "Assignment #1, due Tuesday Week #3\n",
    "Assignment 1: In silico protein translation using Python and Expasy\n",
    "You will implement a simple DNA to protein in silico protein translator. You need to consider all the codons defined in the genetic codon wikipedia page (https://en.wikipedia.org/wiki/Genetic_code). You can define the gene by using the start and stop codon (truncated protein with missing start or stop codon do not need to be translated). Simulate 10 random DNA sequences of 200bp in length and check to see whether your code works. Compare the results you get with the Expasy Translate tool. Any difference? Why?\n",
    "\n",
    "\n",
    "Note: Consider all three reading frames, and both the strands."
   ]
  },
  {
   "cell_type": "markdown",
   "id": "ae9a18d9-184b-447b-9814-b917b0269c0b",
   "metadata": {},
   "source": [
    "Steps:\n",
    "1. write a function to create 10 random DNA sequences of 200bp\n",
    "To consider all 6 reading frames:\n",
    "3.  reverse complement function\n",
    "4.  write a function that incorporates r.c function and returns all 6 frames as a list.\n",
    "5.  write a transcribe function complements each frame, and converts T > U\n",
    "6.  write a function that defines and returns a gene (does it have a start and stop?)\n",
    "7.  read in codon table as dict\n",
    "8.  use codon_dict to translate gene\n",
    "\n",
    "\n",
    "Layout:\n",
    "1. read in csv"
   ]
  },
  {
   "cell_type": "markdown",
   "id": "11ec3a08-5a2b-4e9b-b179-42939065acdb",
   "metadata": {},
   "source": [
    "Simulate 10 random DNA sequences of 200bp in length"
   ]
  },
  {
   "cell_type": "code",
   "execution_count": 1,
   "id": "f86b07ee-22d1-4f89-b6d2-c1e7c480fe9d",
   "metadata": {},
   "outputs": [],
   "source": [
    "import random\n",
    "\n",
    "def generate_random_nucleotide_seq(length):\n",
    "    nucleotides = ['A', 'T', 'C', 'G']\n",
    "    sequence = ''\n",
    "    for x in range(length):\n",
    "        index = random.randint(0,3)\n",
    "        sequence += nucleotides[index]\n",
    "    return sequence"
   ]
  },
  {
   "cell_type": "markdown",
   "id": "23f6d621-875c-4887-96c8-8f5ef5c6fe68",
   "metadata": {},
   "source": [
    "Create a function to reverse complement sequence"
   ]
  },
  {
   "cell_type": "code",
   "execution_count": 61,
   "id": "23b8bd54-df4e-47e4-b84b-1f8b3aa39699",
   "metadata": {},
   "outputs": [],
   "source": [
    "# sequence = ATTGCCA (len = 7)\n",
    "def reverse_complement(sequence):\n",
    "    nucleotide_dict = {'A':'T', 'C':'G', 'G':'C', 'T':'A'}\n",
    "    rc = ''\n",
    "\n",
    "    for i in range(len(sequence)):\n",
    "        nuc = sequence[-(i+1)]\n",
    "        rc += (nucleotide_dict[nuc])\n",
    "\n",
    "    return rc"
   ]
  },
  {
   "cell_type": "code",
   "execution_count": 14,
   "id": "8756e915-f0f0-4742-8231-206a2352e3b8",
   "metadata": {},
   "outputs": [
    {
     "data": {
      "text/plain": [
       "'TGGCAAT'"
      ]
     },
     "execution_count": 14,
     "metadata": {},
     "output_type": "execute_result"
    }
   ],
   "source": [
    "# reverse_complement('ATTGCCA')"
   ]
  },
  {
   "cell_type": "markdown",
   "id": "dc276ba4-df84-4a3f-8c3b-489d9dbed209",
   "metadata": {},
   "source": [
    "Create function to read in codon table as dictionary from codon.txt"
   ]
  },
  {
   "cell_type": "code",
   "execution_count": 63,
   "id": "9b5ab5fa",
   "metadata": {},
   "outputs": [
    {
     "name": "stdout",
     "output_type": "stream",
     "text": [
      "{'AAA': 'K', 'AAC': 'N', 'AAG': 'K', 'AAT': 'N', 'ACA': 'T', 'ACC': 'T', 'ACG': 'T', 'ACT': 'T', 'AGA': 'R', 'AGC': 'S', 'AGG': 'R', 'AGT': 'S', 'ATA': 'I', 'ATC': 'I', 'ATG': 'M', 'ATT': 'I', 'CAA': 'Q', 'CAC': 'H', 'CAG': 'Q', 'CAT': 'H', 'CCA': 'P', 'CCC': 'P', 'CCG': 'P', 'CCT': 'P', 'CGA': 'R', 'CGC': 'R', 'CGG': 'R', 'CGT': 'R', 'CTA': 'L', 'CTC': 'L', 'CTG': 'L', 'CTT': 'L', 'GAA': 'E', 'GAC': 'D', 'GAG': 'E', 'GAT': 'D', 'GCA': 'A', 'GCC': 'A', 'GCG': 'A', 'GCT': 'A', 'GGA': 'G', 'GGC': 'G', 'GGG': 'G', 'GGT': 'G', 'GTA': 'V', 'GTC': 'V', 'GTG': 'V', 'GTT': 'V', 'TAA': 'O', 'TAC': 'Y', 'TAG': 'O', 'TAT': 'Y', 'TCA': 'S', 'TCC': 'S', 'TCG': 'S', 'TCT': 'S', 'TGA': 'O', 'TGC': 'C', 'TGG': 'W', 'TGT': 'C', 'TTA': 'L', 'TTC': 'F', 'TTG': 'L', 'TTT': 'F'}\n"
     ]
    }
   ],
   "source": [
    "import csv\n",
    "\n",
    "def read_tsv_to_dict(file_path):\n",
    "    dic = dict()\n",
    "    with open(file_path, 'r') as file:\n",
    "        r = csv.reader(file, delimiter='\\t')\n",
    "        headers = next(r)\n",
    "        for row in r:\n",
    "            if row[0].startswith('#') or not row[0]:\n",
    "                continue\n",
    "            try:\n",
    "                key = row[0] # first column \"Codon\"\n",
    "                value = row[2] # third column \"Letter\"\n",
    "                dic[key] = value\n",
    "            except IndexError:\n",
    "                continue # skip rows that don't have enough columns\n",
    "    return dic\n",
    "\n",
    "file_path = './codon.txt'\n",
    "codon_dict = read_tsv_to_dict(file_path)\n",
    "print(codon_dict)\n"
   ]
  },
  {
   "cell_type": "markdown",
   "id": "22dfea1e-35be-49f7-9577-7f40224f3c8f",
   "metadata": {},
   "source": [
    "Create a function that:\n",
    "1. takes in a sequence\n",
    "3. finds 3 reading frames per direction\n",
    "4. returns a list of 6 frames\n",
    "   "
   ]
  },
  {
   "cell_type": "code",
   "execution_count": 65,
   "id": "13493f0c-ba27-42bf-b88f-76a5d50ddee1",
   "metadata": {},
   "outputs": [],
   "source": [
    "def find_3_frames(sequence):\n",
    "    list = []\n",
    "    for i in range(3):\n",
    "        list.append(sequence[i:])\n",
    "    \n",
    "    return list\n",
    "\n",
    "def create_frame_list(sequence):\n",
    "        #frames = {i: '' for i in range(1,7)}\n",
    "    forward = find_3_frames(sequence)\n",
    "    reverse = find_3_frames(reverse_complement(sequence))\n",
    "    frames = forward + reverse #results in a list of 6 frames\n",
    "    # print(frames)\n",
    "\n",
    "    #list comp to create dictionary that assigns numbers 1-6 to each item in frames list\n",
    "    # dic = {i+1: frames[i] for i in range(len(frames))} #<-- decided against this - unnessesary\n",
    "\n",
    "    return frames\n",
    "\n",
    "    "
   ]
  },
  {
   "cell_type": "code",
   "execution_count": 12,
   "id": "e0f0a826-1efd-4afa-a3c6-ebd868baaecb",
   "metadata": {},
   "outputs": [
    {
     "name": "stdout",
     "output_type": "stream",
     "text": [
      "GTAAGCAACTACGATTAGGGGGGTTGTTCCCAAGTGTCCAACCTTTCTACTCTGAAGTACAGAAACAGGCTTAACATCCCACGGCACCAGTTCATCGTACGTACCCTGGCAGTGAACATCGGCAGAATGTGACAGAGAACCAGCGCACCACAGCCAACGCTGTCAGCTCGTAGCTGTAGGCAAAGGACTATCTGGCGTTT\n",
      "['GTAAGCAACTACGATTAGGGGGGTTGTTCCCAAGTGTCCAACCTTTCTACTCTGAAGTACAGAAACAGGCTTAACATCCCACGGCACCAGTTCATCGTACGTACCCTGGCAGTGAACATCGGCAGAATGTGACAGAGAACCAGCGCACCACAGCCAACGCTGTCAGCTCGTAGCTGTAGGCAAAGGACTATCTGGCGTTT', 'TAAGCAACTACGATTAGGGGGGTTGTTCCCAAGTGTCCAACCTTTCTACTCTGAAGTACAGAAACAGGCTTAACATCCCACGGCACCAGTTCATCGTACGTACCCTGGCAGTGAACATCGGCAGAATGTGACAGAGAACCAGCGCACCACAGCCAACGCTGTCAGCTCGTAGCTGTAGGCAAAGGACTATCTGGCGTTT', 'AAGCAACTACGATTAGGGGGGTTGTTCCCAAGTGTCCAACCTTTCTACTCTGAAGTACAGAAACAGGCTTAACATCCCACGGCACCAGTTCATCGTACGTACCCTGGCAGTGAACATCGGCAGAATGTGACAGAGAACCAGCGCACCACAGCCAACGCTGTCAGCTCGTAGCTGTAGGCAAAGGACTATCTGGCGTTT', 'AAACGCCAGATAGTCCTTTGCCTACAGCTACGAGCTGACAGCGTTGGCTGTGGTGCGCTGGTTCTCTGTCACATTCTGCCGATGTTCACTGCCAGGGTACGTACGATGAACTGGTGCCGTGGGATGTTAAGCCTGTTTCTGTACTTCAGAGTAGAAAGGTTGGACACTTGGGAACAACCCCCCTAATCGTAGTTGCTTAC', 'AACGCCAGATAGTCCTTTGCCTACAGCTACGAGCTGACAGCGTTGGCTGTGGTGCGCTGGTTCTCTGTCACATTCTGCCGATGTTCACTGCCAGGGTACGTACGATGAACTGGTGCCGTGGGATGTTAAGCCTGTTTCTGTACTTCAGAGTAGAAAGGTTGGACACTTGGGAACAACCCCCCTAATCGTAGTTGCTTAC', 'ACGCCAGATAGTCCTTTGCCTACAGCTACGAGCTGACAGCGTTGGCTGTGGTGCGCTGGTTCTCTGTCACATTCTGCCGATGTTCACTGCCAGGGTACGTACGATGAACTGGTGCCGTGGGATGTTAAGCCTGTTTCTGTACTTCAGAGTAGAAAGGTTGGACACTTGGGAACAACCCCCCTAATCGTAGTTGCTTAC']\n"
     ]
    }
   ],
   "source": [
    "#test\n",
    "\n",
    "sequence = generate_random_nucleotide_seq(200)\n",
    "print(sequence)\n",
    "frames = create_frame_list(sequence)\n",
    "print(frames)"
   ]
  },
  {
   "cell_type": "markdown",
   "id": "397e831f-12aa-41fb-bc22-458cc529d630",
   "metadata": {},
   "source": [
    "5. Write a function that defines a gene - Does it have a start and stop codon IN THE SAME FRAME? Turns out this function was not resulting in multiple orfs when there were two start codons before a stop. New function further down"
   ]
  },
  {
   "cell_type": "code",
   "execution_count": 13,
   "id": "87661e8f-2052-446b-863f-fa3ace38b5ae",
   "metadata": {},
   "outputs": [
    {
     "name": "stdout",
     "output_type": "stream",
     "text": [
      "[['ATG'], None, None, ['ATGTTAAGCCTGTTTCTGTACTTCAGAGTAGAAAGGTTGGACACTTGGGAACAACCCCCC'], None, None]\n"
     ]
    }
   ],
   "source": [
    "# def find_orf(seq):\n",
    "#     stop_codons = ['TAA', 'TAG', 'TGA']\n",
    "#     orfs =[]\n",
    "    \n",
    "#     #find index of ATG\n",
    "#     start_i = -1 #initialize start index\n",
    "    \n",
    "#     for i in range(0, len(seq) -2, 3):  #-2 to ensure loop doesnt go out of bounds\n",
    "#         codon = seq[i:i+3]\n",
    "#         if codon == 'ATG':\n",
    "#             start_i = i\n",
    "#         elif codon in stop_codons and start_i != -1: \n",
    "#             orfs.append(seq[start_i:i]) #return sequence including the start codon, not including the stop codon\n",
    "#             start_i = -1 #reset index after finding stop codon to see if there are any other orfs in the same seq\n",
    "\n",
    "#     #if anything present in orf list, return this result.\n",
    "#     if orfs:\n",
    "#         return orfs\n",
    "#     else:\n",
    "#         return None\n",
    "            \n",
    "    \n",
    "# orfs = []\n",
    "# for seq in frames:\n",
    "#     orfs.append(find_orf(seq))\n",
    "# print(orfs)"
   ]
  },
  {
   "cell_type": "markdown",
   "id": "05e173d4-c38f-4f53-a131-58c4468cada8",
   "metadata": {},
   "source": [
    "6.  write a transcribe function"
   ]
  },
  {
   "cell_type": "code",
   "execution_count": 17,
   "id": "d0802522-fdba-4617-80fa-bb13f7ff92c8",
   "metadata": {},
   "outputs": [
    {
     "name": "stdout",
     "output_type": "stream",
     "text": [
      "[['AUG'], None, None, ['AUGUUAAGCCUGUUUCUGUACUUCAGAGUAGAAAGGUUGGACACUUGGGAACAACCCCCC'], None, None]\n"
     ]
    }
   ],
   "source": [
    "# def transcribe_dna_lists_to_rna(dna_lists):\n",
    "#     rna_lists = []\n",
    "#     for sublist in dna_lists:\n",
    "#         if sublist is None:\n",
    "#             rna_lists.append(None)\n",
    "#         else:\n",
    "#             rna_sublist = []\n",
    "#             for dna_sequence in sublist:\n",
    "#                 rna_sequence = dna_sequence.replace('T', 'U')\n",
    "#                 rna_sublist.append(rna_sequence)\n",
    "#             rna_lists.append(rna_sublist)\n",
    "#     return rna_lists\n",
    "\n",
    "# rna_orfs= transcribe_dna_lists_to_rna(orfs)\n",
    "# print(rna_orfs)            "
   ]
  },
  {
   "cell_type": "markdown",
   "id": "368de8fe-2d33-46d7-9d2f-4b3ca4f15824",
   "metadata": {},
   "source": [
    "7. Translate by importing codon table.\n"
   ]
  },
  {
   "cell_type": "code",
   "execution_count": null,
   "id": "60b703f0-6898-4b0f-8587-67871eeb00e2",
   "metadata": {},
   "outputs": [],
   "source": [
    "def translate(orf, codon_dict):\n",
    "    aa_seq = []\n",
    "    for i in range(0, len(orf), 3):  \n",
    "        codon = orf[i:i+3]\n",
    "        aa_seq.append(codon_dict[codon])\n",
    "    return ''.join(aa_seq)\n",
    "    "
   ]
  },
  {
   "cell_type": "markdown",
   "id": "97627620",
   "metadata": {},
   "source": [
    "Put it all toghether."
   ]
  },
  {
   "cell_type": "code",
   "execution_count": 42,
   "id": "77e3e7d7",
   "metadata": {},
   "outputs": [],
   "source": [
    "import random\n",
    "import csv\n",
    "\n",
    "def generate_random_nucleotide_seq(length):\n",
    "    nucleotides = ['A', 'T', 'C', 'G']\n",
    "    sequence = ''\n",
    "    for x in range(length):\n",
    "        index = random.randint(0,3)\n",
    "        sequence += nucleotides[index]\n",
    "    return sequence\n",
    "\n",
    "\n",
    "def reverse_complement(sequence):\n",
    "    nucleotide_dict = {'A':'T', 'C':'G', 'G':'C', 'T':'A'}\n",
    "    rc = ''\n",
    "\n",
    "    for i in range(len(sequence)):\n",
    "        nuc = sequence[-(i+1)]\n",
    "        rc += (nucleotide_dict[nuc])\n",
    "\n",
    "    return rc\n",
    "\n",
    "def read_tsv_to_dict(file_path):\n",
    "    dic = dict()\n",
    "    with open(file_path, 'r') as file:\n",
    "        r = csv.reader(file, delimiter='\\t')\n",
    "        headers = next(r)\n",
    "        for row in r:\n",
    "            if row[0].startswith('#') or not row[0]:\n",
    "                continue\n",
    "            try:\n",
    "                key = row[0] # first column \"Codon\"\n",
    "                value = row[2] # third column \"Letter\"\n",
    "                dic[key] = value\n",
    "            except IndexError:\n",
    "                continue # skip rows that don't have enough columns\n",
    "    return dic\n",
    "\n",
    "def find_3_frames(sequence):\n",
    "    list = []\n",
    "    for i in range(3):\n",
    "        list.append(sequence[i:])\n",
    "    \n",
    "    return list\n",
    "\n",
    "def create_frame_list(sequence):\n",
    "        #frames = {i: '' for i in range(1,7)}\n",
    "    forward = find_3_frames(sequence)\n",
    "    reverse = find_3_frames(reverse_complement(sequence))\n",
    "    frames = forward + reverse #results in a list of 6 frames\n",
    "    # print(frames)\n",
    "\n",
    "    #list comp to create dictionary that assigns numbers 1-6 to each item in frames list\n",
    "    # dic = {i+1: frames[i] for i in range(len(frames))} #<-- decided against this - unnessesary\n",
    "\n",
    "    return frames\n",
    "\n",
    "# def find_orf(seq):\n",
    "#     stop_codons = ['TAA', 'TAG', 'TGA']\n",
    "#     orfs =[]\n",
    "    \n",
    "#     #find index of ATG\n",
    "#     start_i = -1 #initialize start index\n",
    "    \n",
    "#     for i in range(0, len(seq) -2, 3):  #-2 to ensure loop doesnt go out of bounds\n",
    "#         codon = seq[i:i+3]\n",
    "#         if codon == 'ATG':\n",
    "#             start_i = i\n",
    "#         elif codon in stop_codons and start_i != -1: \n",
    "#             orfs.append(seq[start_i:i]) #return sequence including the start codon, not including the stop codon\n",
    "#             start_i = -1 #reset index after finding stop codon to see if there are any other orfs in the same seq\n",
    "\n",
    "#     #if anything present in orf list, return this result.\n",
    "#     if orfs:\n",
    "#         return orfs\n",
    "#     else:\n",
    "#         return None\n",
    "    \n",
    "def translate(orf, codon_dict):\n",
    "    aa_seq = []\n",
    "    for i in range(0, len(orf), 3):  \n",
    "        codon = orf[i:i+3]\n",
    "        aa_seq.append(codon_dict[codon])\n",
    "    return ''.join(aa_seq)\n",
    "    "
   ]
  },
  {
   "cell_type": "code",
   "execution_count": 54,
   "id": "5a3b8aac",
   "metadata": {},
   "outputs": [],
   "source": [
    "if __name__ == \"__main__\":\n",
    "    codon_dict = read_tsv_to_dict('./codon.txt')\n",
    "    with open('output.txt', 'w') as output_file:\n",
    "        for i in range(10):\n",
    "            dna_sequence = generate_random_nucleotide_seq(200)\n",
    "            frames = create_frame_list(dna_sequence)\n",
    "            output_file.write(f\"Random DNA Sequence {i+1}:\\n {dna_sequence}\\n\")\n",
    "            for j, frame in enumerate(frames):\n",
    "                orfs = find_orf(frame)\n",
    "                if orfs:\n",
    "                    for orf in orfs:\n",
    "                        protein = translate(orf, codon_dict)\n",
    "                        output_file.write(f\"  Frame {j+1}: ORF {orf} -> Protein {protein}\\n\")\n",
    "                else:\n",
    "                    output_file.write(f\"  Frame {j+1}: No ORF found\\n\")\n",
    "            output_file.write(\"\\n\")"
   ]
  },
  {
   "cell_type": "markdown",
   "id": "7c61159d",
   "metadata": {},
   "source": [
    "Try new find orf function for multiple start codons\n"
   ]
  },
  {
   "cell_type": "code",
   "execution_count": 75,
   "id": "4dc65f33-e2b9-4cb2-8937-e160add175c6",
   "metadata": {},
   "outputs": [],
   "source": [
    "def find_orf(seq):\n",
    "    stop_codons = ['TAA', 'TAG', 'TGA']\n",
    "    orfs = []\n",
    "    start_positions = []\n",
    "\n",
    "    for i in range(0, len(seq) - 2, 3):  # -2 to ensure loop doesn't go out of bounds\n",
    "        codon = seq[i:i+3]\n",
    "        if codon == 'ATG':\n",
    "            start_positions.append(i)\n",
    "        elif codon in stop_codons:\n",
    "            for start_i in start_positions:\n",
    "                orfs.append(seq[start_i:i])\n",
    "            start_positions = []  # Reset start positions after finding a stop codon\n",
    "\n",
    "    # If anything present in orf list, return this result.\n",
    "    if orfs:\n",
    "        return orfs\n",
    "    else:\n",
    "        return None\n",
    "\n",
    "def translate(orf, codon_dict):\n",
    "    aa_seq = []\n",
    "    for i in range(0, len(orf), 3):  \n",
    "        codon = orf[i:i+3]\n",
    "        aa_seq.append(codon_dict[codon])\n",
    "    return ''.join(aa_seq)"
   ]
  },
  {
   "cell_type": "code",
   "execution_count": 98,
   "id": "13f2603e-719f-4a1f-ac13-a2c09146099a",
   "metadata": {},
   "outputs": [],
   "source": [
    "dna_sequence = 'ACAGAAGATAAACCTCATACTAATATGTAAAGGCCTTGTATTGTGTTGTGGACCGGCGCATGATTGTTCATCTATGTCAGCCATCCAGTTTTTAAGAGAAGTCGTTGCCCTTAGTCGTCGCCAAAGTGCGACGATGGGAGCTTTCTTTCTTAATTCACGGATCGGATGTTGGCTCAACGTCGGTGAGTGATTTTACGTGG'\n",
    "\n",
    "\n",
    "codon_dict = read_tsv_to_dict('./codon.txt')\n",
    "with open('test_output.txt', 'w') as output_file:\n",
    "    frames = create_frame_list(dna_sequence)\n",
    "    output_file.write(f\"Random DNA Sequence {i+1}:\\n {dna_sequence}\\n\")\n",
    "    for j, frame in enumerate(frames):\n",
    "        orfs = find_orf(frame)\n",
    "        if orfs:\n",
    "            for orf in orfs:\n",
    "                protein = translate(orf, codon_dict)\n",
    "                output_file.write(f\"  Frame {j+1}: ORF {orf} -> Protein {protein}\\n\")\n",
    "        else:\n",
    "            output_file.write(f\"  Frame {j+1}: No ORF found\\n\")\n",
    "    output_file.write(\"\\n\")"
   ]
  }
 ],
 "metadata": {
  "kernelspec": {
   "display_name": "anaconda-2024.02-py310",
   "language": "python",
   "name": "conda-env-anaconda-2024.02-py310-py"
  },
  "language_info": {
   "codemirror_mode": {
    "name": "ipython",
    "version": 3
   },
   "file_extension": ".py",
   "mimetype": "text/x-python",
   "name": "python",
   "nbconvert_exporter": "python",
   "pygments_lexer": "ipython3",
   "version": "3.10.14"
  }
 },
 "nbformat": 4,
 "nbformat_minor": 5
}

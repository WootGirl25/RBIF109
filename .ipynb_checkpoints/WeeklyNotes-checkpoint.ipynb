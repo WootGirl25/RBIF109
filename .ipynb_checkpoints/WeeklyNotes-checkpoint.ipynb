{
 "cells": [
  {
   "cell_type": "markdown",
   "id": "6bb00a50-ef1f-48fe-9575-5dc1b570e9f3",
   "metadata": {},
   "source": [
    "Topic Notes Key points & Learning Objectives"
   ]
  },
  {
   "cell_type": "markdown",
   "id": "ad9f912e-a21d-49f2-8a8a-e8e7a9bc391d",
   "metadata": {},
   "source": [
    "# Week 2:\n",
    "### Control flow:\n",
    "   `while` can be used with `break` and `continue`\n",
    "   \n",
    "   Example: print the index of the nucleotide where the first 'CA' is encountered"
   ]
  },
  {
   "cell_type": "code",
   "execution_count": null,
   "id": "e7cac09c-8294-4e87-940e-c1093d33d779",
   "metadata": {},
   "outputs": [],
   "source": [
    "seq_a = \"AGCTGACATGCA\"\n",
    "index = 0\n",
    "\n",
    "while index < len(sequence) - 1:\n",
    "    if sequence[index:index+2] == 'CA':\n",
    "        print(f\"The first 'CA' is encountered at index {index}\")\n",
    "        break\n",
    "    index += 1\n",
    "    "
   ]
  },
  {
   "cell_type": "markdown",
   "id": "bc5c3706-3c45-4521-a507-483155e12950",
   "metadata": {},
   "source": [
    "### Code efficiency\n",
    "Use the time module to get the current time. Call the time function before and after a code block to calculate the time spent executing the block. The unit of results is in sec."
   ]
  },
  {
   "cell_type": "code",
   "execution_count": 14,
   "id": "aa373bd4-7864-4a71-886a-f9eb75dba11a",
   "metadata": {},
   "outputs": [
    {
     "name": "stdout",
     "output_type": "stream",
     "text": [
      "0.0002288818359375\n"
     ]
    }
   ],
   "source": [
    "#assess efficiency of simulating 200 random numbers in the range of 0-10\n",
    "from random import randint\n",
    "import time\n",
    "time_start = time.time()\n",
    "list1 = []\n",
    "for i in range(200):\n",
    "    num = randint(0,10)\n",
    "    list1.append(num)\n",
    "time_end = time.time()\n",
    "\n",
    "efficency = time_end - time_start\n",
    "print(efficency)"
   ]
  },
  {
   "cell_type": "markdown",
   "id": "5afa251e-d21a-457d-a49f-4ee51fa5de12",
   "metadata": {},
   "source": [
    "### String search\n",
    "Can be done using:\n",
    "1. the default algorithm in Python using `.find()`:"
   ]
  },
  {
   "cell_type": "code",
   "execution_count": 32,
   "id": "3b922c0a-2732-43d8-a0cd-6dd1ea5635f1",
   "metadata": {},
   "outputs": [
    {
     "data": {
      "text/plain": [
       "2"
      ]
     },
     "execution_count": 32,
     "metadata": {},
     "output_type": "execute_result"
    }
   ],
   "source": [
    "string1 = \"ATGCACGTGTCA\"\n",
    "string2 = \"GCAC\"\n",
    "string1.find(string2)"
   ]
  },
  {
   "cell_type": "markdown",
   "id": "fbee4ff9-cf62-480c-9fd9-9413a16f1314",
   "metadata": {},
   "source": [
    "2. Brute force/manual method:\n",
    "   Considerations:\n",
    "   \n",
    "   `pass` = is a null operation - the function will do nothing if the length of the motif is greater than the sequence\n",
    "   \n",
    "   `+1` is needed in the range line as 12-4 = 8, range(8) stops at 7, and would miss checking the last possible position."
   ]
  },
  {
   "cell_type": "code",
   "execution_count": 36,
   "id": "00ed22c3-2ce1-4c3f-9d00-3e1fccc02b99",
   "metadata": {},
   "outputs": [
    {
     "name": "stdout",
     "output_type": "stream",
     "text": [
      "2\n"
     ]
    }
   ],
   "source": [
    "def brute_force(string1,string2):\n",
    "    len1 = len(string1)\n",
    "    len2 = len(string2)\n",
    "    index = -1 #default is \"no such substring\"\n",
    "    if len2 > len1:\n",
    "        pass\n",
    "    else:\n",
    "        for i in range(len1-len2 +1):\n",
    "            if string1[i:i+len2] == string2:\n",
    "                index=i\n",
    "                break\n",
    "    return index\n",
    "\n",
    "print(brute_force(string1,string2))"
   ]
  },
  {
   "cell_type": "markdown",
   "id": "0ee9d03d-3be7-4d93-8563-41b30e336bed",
   "metadata": {},
   "source": [
    "### K-mer counting\n",
    "Find the most frequent k-mer in a sequence"
   ]
  },
  {
   "cell_type": "code",
   "execution_count": 41,
   "id": "3455edc8-3f33-42e9-a7a8-311dda1a9847",
   "metadata": {},
   "outputs": [
    {
     "data": {
      "text/plain": [
       "'ATGC'"
      ]
     },
     "execution_count": 41,
     "metadata": {},
     "output_type": "execute_result"
    }
   ],
   "source": [
    "def most_frequent_kmer(sequence,k):\n",
    "    length=len(sequence)\n",
    "    if k>length:\n",
    "        return \"k is bigger than the length of the sequence\"\n",
    "    else:\n",
    "        if k==length:\n",
    "            return sequence\n",
    "        else:\n",
    "            dic_count={}  #the dictionary to store the count of kmers\n",
    "            for i in range(length-k+1):\n",
    "                kmer=sequence[i:i+k]\n",
    "                if kmer not in dic_count:\n",
    "                    dic_count[kmer]=1\n",
    "                else:\n",
    "                    dic_count[kmer]+=1\n",
    "            value_key_list= [(value, key) for key, value in dic_count.items()]\n",
    "            return max(value_key_list)[1]\n",
    "\n",
    "most_frequent_kmer(\"ATGCTGCCGTAATGCCGATCAACGTCGGACTATGC\",4)"
   ]
  },
  {
   "cell_type": "markdown",
   "id": "36d7a43e-33ea-44e9-b5a1-dc6923ea4704",
   "metadata": {},
   "source": [
    "Problem: Can you modify the above code to find the mst frequent k-mer in a list of sequences rather than just one sequence?"
   ]
  },
  {
   "cell_type": "code",
   "execution_count": 44,
   "id": "be906bdd-78d9-4b19-a7b3-16a9243e6077",
   "metadata": {},
   "outputs": [],
   "source": [
    "def most_frequent_kmer_in_list(sequence_list,k):\n",
    "    top_counts = {}\n",
    "    for sequence in sequence_list:\n",
    "        length=len(sequence)\n",
    "        if k>length:\n",
    "            continue\n",
    "        else:\n",
    "            if k==length:\n",
    "                top_counts[sequence] = 1\n",
    "            else:\n",
    "                dic_count={}  #the dictionary to store the count of kmers\n",
    "                for i in range(length-k+1):\n",
    "                    kmer=sequence[i:i+k]\n",
    "                    if kmer not in dic_count:\n",
    "                        dic_count[kmer]=1\n",
    "                    else:\n",
    "                        dic_count[kmer]+=1\n",
    "                value_key_list = [(value, key) for key, value in dic_count.items()]\n",
    "                top_counts[max(value_key_list)[1]] = max(value_key_list)[0]\n",
    "    top_counts_list = [(value, key) for key, value in top_counts.items()]\n",
    "    return max(top_counts_list)[1]\n",
    "    "
   ]
  },
  {
   "cell_type": "raw",
   "id": "bfdbf5e1-bf75-48f3-aa22-9267e18b5898",
   "metadata": {},
   "source": [
    "### Edit distance\n",
    "Measures how different two sequences are\n",
    "\n",
    "For sequences of the same length:\n",
    "\n",
    "The distance at each position (i) is defined as:\n",
    "\r\n",
    "(d(Seq_a[i], Seq_b[i]) = 0) if the elements are the sam.\r\n",
    "(d(Seq_a[i], Seq_b[i]) = 1) if the elements are differtt.\r\n",
    "Formula: The total distance is givey\n",
    "n b\n",
    "distance(Seqa,Seqb) = ∑d(Seqa[i],Seqb[i])\n",
    "\n",
    "So for the given sequenc:\n",
    "\n",
    "Seq_a: A T G CC\r\n",
    "\n",
    "Seq_b: A C T\n",
    "\n",
    "C G Position 1: A (Seq_a) vs A (Seq_b) → (d(A, A) = 0)\n",
    "Position 2: T (Seq_a) vs C (Seq_b) → (d(T, C) = 1)\n",
    "Position 3: G (Seq_a) vs G (Seq_b) → (d(G, G) = 0)\n",
    "Position 4: C (Seq_a) vs C (Seq_b) → (d(C, C) = 0)\n",
    "Position 5: C (Seq_a) vs T (Seq_b) → (d(C, T) = distance(Seqa,Seqb) = 0+1+0+0+1 = 2\n",
    " [i])"
   ]
  },
  {
   "cell_type": "markdown",
   "id": "b6d8e9db-4f88-4dd2-a2b1-d66444e88a4d",
   "metadata": {},
   "source": [
    "Implement a function to calculate the edit distance of two sequences of the same length."
   ]
  },
  {
   "cell_type": "code",
   "execution_count": 9,
   "id": "8c214863-a8ac-4c8d-8017-19875db7bd24",
   "metadata": {},
   "outputs": [
    {
     "name": "stdout",
     "output_type": "stream",
     "text": [
      "2\n"
     ]
    }
   ],
   "source": [
    "def edit_distance_same_length(seq_a, seq_b):\n",
    "    #ensure same length\n",
    "    if len(seq_a) != len(seq_b):\n",
    "        raise ValueError(\"Sequences must be of same length\")\n",
    "    #initialize distance\n",
    "    distance = 0\n",
    "    #calculate distance\n",
    "    for i in range(len(seq_a)):\n",
    "        if seq_a[i] != seq_b[i]:\n",
    "            distance += 1\n",
    "    return distance\n",
    "\n",
    "print(edit_distance_same_length(\"ATGCC\", \"ACGCT\"))"
   ]
  },
  {
   "cell_type": "markdown",
   "id": "beef2951-301e-42c1-872b-5d8f0eb810d5",
   "metadata": {},
   "source": [
    "Implement a function to calculate the edit disance of two sequences of different lengths"
   ]
  },
  {
   "cell_type": "code",
   "execution_count": 21,
   "id": "b2cde1d1-a177-417f-9cb6-614a70fe1e5a",
   "metadata": {},
   "outputs": [
    {
     "name": "stdout",
     "output_type": "stream",
     "text": [
      "4\n"
     ]
    }
   ],
   "source": [
    "def edit_distance_diff_lengths(seq_a, seq_b):\n",
    "    #initialize distance\n",
    "    d = 0\n",
    "    #calc difference in length\n",
    "    d_length = max([len(seq_a), len(seq_b)]) - min([len(seq_a), len(seq_b)])\n",
    "    d += d_length\n",
    "\n",
    "    #calculate distance for overlapping sequence\n",
    "    for i in range(min([len(seq_a), len(seq_b)])):\n",
    "        if seq_a[i] != seq_b[i]:\n",
    "            d += 1\n",
    "    return d\n",
    "\n",
    "print(edit_distance_diff_lengths(\"ATGCCGT\", \"ACGCT\"))"
   ]
  },
  {
   "cell_type": "markdown",
   "id": "a196dd4e-d190-46bf-a6be-0dd12b63c0f7",
   "metadata": {},
   "source": [
    "### New code I learned this week"
   ]
  },
  {
   "cell_type": "markdown",
   "id": "1bc631f5-a93b-4288-b2a5-2e32a7c80860",
   "metadata": {},
   "source": [
    "`%s` is a placeholder for string formatting, used in conjunction with `%` operation to replace the placeholders with the values provided.\n",
    "\n",
    "Ex: When printing out elements of seq_b, also print out its index."
   ]
  },
  {
   "cell_type": "code",
   "execution_count": 8,
   "id": "b695eccf-aeca-40e9-8a0a-a6bc7348e624",
   "metadata": {},
   "outputs": [
    {
     "name": "stdout",
     "output_type": "stream",
     "text": [
      "0:A\n",
      "1:C\n",
      "2:T\n",
      "3:T\n"
     ]
    }
   ],
   "source": [
    "seq_b = \"ACTT\"\n",
    "def print_with_index(seq_b):\n",
    "    for i in range(len(seq_b)):\n",
    "        print(\"%s:%s\" % (i, seq_b[i]))\n",
    "print_with_index(seq_b)"
   ]
  }
 ],
 "metadata": {
  "kernelspec": {
   "display_name": "anaconda-2024.02-py310",
   "language": "python",
   "name": "conda-env-anaconda-2024.02-py310-py"
  },
  "language_info": {
   "codemirror_mode": {
    "name": "ipython",
    "version": 3
   },
   "file_extension": ".py",
   "mimetype": "text/x-python",
   "name": "python",
   "nbconvert_exporter": "python",
   "pygments_lexer": "ipython3",
   "version": "3.10.14"
  }
 },
 "nbformat": 4,
 "nbformat_minor": 5
}

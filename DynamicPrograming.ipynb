{
 "cells": [
  {
   "cell_type": "code",
   "execution_count": 7,
   "id": "4153516e-d17d-46d7-a05c-0cec201fb470",
   "metadata": {},
   "outputs": [],
   "source": [
    "# Initializing a matrix of size (m+1)*(n+1)\n",
    "dp = [[0] * (n + 1) for x in range(m + 1)]"
   ]
  },
  {
   "cell_type": "markdown",
   "id": "78761789-e401-41a5-919b-df4e19f72f04",
   "metadata": {},
   "source": [
    "This line of code initializes a two-dimensional list (or matrix) in Python with dimensions (m+1) x (n+1). Here’s what each part of the code means:\n",
    "\n",
    "dp = creates a variable named dp to store the matrix.\n",
    "\n",
    "[[0] * (n + 1) for x in range(m + 1)] is a list comprehension used to construct the matrix.\n",
    "\n",
    "Inside the list comprehension:\n",
    "\n",
    "[0] * (n + 1): This part creates a list of zeros with a length of n + 1. For example, if n = 2, it would create [0, 0, 0].\n",
    "\n",
    "for x in range(m + 1): This part iterates m + 1 times to create m + 1 lists of zeros. So, if m = 2, it would create a total of 3 such lists."
   ]
  },
  {
   "cell_type": "code",
   "execution_count": null,
   "id": "af3ae21a-dac0-4fb9-b119-5b76e2f855c9",
   "metadata": {},
   "outputs": [],
   "source": [
    "#If m = 2 and n = 2, the resulting dp matrix would look like:\n",
    "dp = [\n",
    "  [0, 0, 0],\n",
    "  [0, 0, 0],\n",
    "  [0, 0, 0]\n",
    "]"
   ]
  },
  {
   "cell_type": "code",
   "execution_count": null,
   "id": "a17c07f2-48ff-4903-835a-0c9a5d2678fc",
   "metadata": {},
   "outputs": [],
   "source": [
    "# Building dp[m+1][n+1] in bottom-up fashion\n",
    "for i in range(1, m + 1):\n",
    "    for j in range(1, n + 1):\n",
    "        if S1[i - 1] == S2[j - 1]:\n",
    "            dp[i][j] = dp[i - 1][j - 1] + 1\n",
    "        else:\n",
    "            dp[i][j] = max(dp[i - 1][j], dp[i][j - 1])"
   ]
  },
  {
   "cell_type": "markdown",
   "id": "33449854-977b-43ae-b09f-09fb3110d09e",
   "metadata": {},
   "source": [
    "This code snippet is iterating through two sequences S1 and S2 and filling up the dp matrix using dynamic programming. Here’s a breakdown:\n",
    "\n",
    "Outer Loop (for i in range(1, m + 1)):\n",
    "\n",
    "Iterates through the rows of the dp matrix from 1 to m.\n",
    "\n",
    "Inner Loop (for j in range(1, n + 1)):\n",
    "\n",
    "Iterates through the columns of the dp matrix from 1 to n.\n",
    "\n",
    "Condition (if S1[i - 1] == S2[j - 1]):\n",
    "\n",
    "Checks if the characters of S1 and S2 at indices i-1 and j-1 are equal. If they are, it means there's a match.\n",
    "\n",
    "Matching Characters (dp[i][j] = dp[i - 1][j - 1] + 1):\n",
    "\n",
    "If there's a match, dp[i][j] is set to dp[i - 1][j - 1] + 1, which means the current length of the common subsequence is incremented by 1.\n",
    "\n",
    "Non-Matching Characters (dp[i][j] = max(dp[i - 1][j], dp[i][j - 1])):\n",
    "\n",
    "If there’s no match, dp[i][j] is set to the maximum value between the element directly above it (dp[i - 1][j]) and the element directly to the left of it (dp[i][j - 1]). This ensures that the longest common subsequence length is carried forward."
   ]
  },
  {
   "cell_type": "markdown",
   "id": "ae90c28c-6ae6-4245-ad63-70e6f37e222f",
   "metadata": {},
   "source": [
    ">what in this code tells us the the outer loop is looking through rows and the inner loop is looking through columns?"
   ]
  },
  {
   "cell_type": "markdown",
   "id": "5b985b45-2453-4e5f-bfac-825530f87529",
   "metadata": {},
   "source": [
    "In Python, when dealing with a two-dimensional list (or matrix), we typically represent it as a list of lists where each inner list represents a row. In the above code:\n",
    "* The outer loop for i in range(1, m + 1): iterates over the rows. The variable i represents the row index.\n",
    "* The inner loop for j in range(1, n + 1): iterates over the columns within each row. The variable j represents the column index.\n",
    "\n",
    "Let's look at how they interact with the dp matrix:\n",
    "1. Outer Loop (for i in range(1, m + 1)):\n",
    "   * This loop starts from 1 and goes up to m, incrementing i each time. Each value of i corresponds to a row index in the dp matrix.\n",
    "\n",
    "2. Inner Loop (for j in range(1, n + 1)):\n",
    "   * For each value of i (each row), this inner loop starts from 1 and goes up to n, incrementing j each time. Each value of j corresponds to a column index within the current row.\n",
    "\n",
    "When you see dp[i][j], it means accessing the element in the i-th row and j-th column of the dp matrix. By convention, two-dimensional lists in Python are accessed with the row index first and the column index second (i.e., dp[row][column]).\n",
    "\n",
    "So, in summary:\n",
    "\n",
    "The outer loop iterates through the rows.\n",
    "\n",
    "The inner loop iterates through the columns of each row."
   ]
  },
  {
   "cell_type": "markdown",
   "id": "89db4c54-5b8b-439b-9c61-8d3140cb3962",
   "metadata": {},
   "source": [
    "### Trying to find lenth of the LCS"
   ]
  },
  {
   "cell_type": "code",
   "execution_count": null,
   "id": "aea877c2-f516-4a4b-b1ea-25d1ceb57d40",
   "metadata": {},
   "outputs": [],
   "source": [
    "def get_lcs_length(S1, S2):\n",
    "    m = len(S1)\n",
    "    n = len(S2)\n",
    "\n",
    "    # Initializing a matrix of size (m+1)*(n+1)\n",
    "    dp = [[0] * (n + 1) for x in range(m + 1)]\n",
    "\n",
    "    # Building dp[m+1][n+1] in bottom-up fashion\n",
    "    for i in range(1, m + 1):\n",
    "        for j in range(1, n + 1):\n",
    "            if S1[i - 1] == S2[j - 1]:\n",
    "                dp[i][j] = dp[i - 1][j - 1] + 1\n",
    "            else:\n",
    "                dp[i][j] = max(dp[i - 1][j],\n",
    "                               dp[i][j - 1])\n",
    "\n",
    "    # dp[m][n] contains length of LCS for S1[0..m-1]\n",
    "    # and S2[0..n-1]\n",
    "    return dp[m][n]\n",
    "\n",
    "\n",
    "if __name__ == \"__main__\":\n",
    "    S1 = \"AGGTAB\"\n",
    "    S2 = \"GXTXAYB\"\n",
    "    print(\"Length of LCS is\", get_lcs_length(S1, S2))"
   ]
  },
  {
   "cell_type": "markdown",
   "id": "e4fbb0e5-e198-4578-bdab-683f009c4255",
   "metadata": {},
   "source": [
    "### Trying to construct and print the LCS"
   ]
  },
  {
   "cell_type": "markdown",
   "id": "e37157ea-ba18-4949-8f01-c37e685c71c4",
   "metadata": {},
   "source": [
    "### Detailed Algorithm to Print the Longest Common Subsequence (LCS)\n",
    "\n",
    "1. **Construct L[m+1][n+1] Table:**\n",
    "   - Using the method discussed previously, build the `L` matrix (or `dp` matrix) of size `(m+1) x (n+1)`, where `m` and `n` are the lengths of sequences `X` and `Y`.\n",
    "\n",
    "2. **Length of LCS:**\n",
    "   - After constructing the `L` table, `L[m][n]` will contain the length of the LCS for sequences `X` and `Y`.\n",
    "\n",
    "3. **Create Character Array for LCS:**\n",
    "   - Create a character array `lcs` with a length equal to `L[m][n] + 1`. The `+1` is to account for the null terminator (`\\0`) in C-style strings, but in Python, you can simply use the length `L[m][n]`.\n",
    "\n",
    "4. **Traverse the 2D Array:**\n",
    "   - Starting from `L[m][n]`, traverse the table backwards to reconstruct the LCS. Here’s how:\n",
    "\n",
    "   - **Initialization:**\n",
    "     ```python\n",
    "     index = L[m][n]\n",
    "     lcs = [\"\"] * (index + 1)  # Create a list to store the LCS characters\n",
    "     lcs[index] = \"\"  # Null terminator (not needed in Python, but showing for clarity)\n",
    "     ```\n",
    "\n",
    "   - **Traversal:**\n",
    "     ```python\n",
    "     i = m\n",
    "     j = n\n",
    "     while i > 0 and j > 0:\n",
    "         # If characters match, this character is part of LCS\n",
    "         if X[i - 1] == Y[j - 1]:\n",
    "             lcs[index - 1] = X[i - 1]\n",
    "             i -= 1\n",
    "             j -= 1\n",
    "             index -= 1\n",
    "         # If not, move in the direction of the greater value\n",
    "         elif L[i - 1][j] > L[i][j - 1]:\n",
    "             i -= 1\n",
    "         else:\n",
    "             j -= 1\n",
    "     ```\n",
    "\n",
    "### Explanation:\n",
    "- **Constructing L Table:**\n",
    "  The `L` table is constructed as explained earlier using dynamic programming.\n",
    "\n",
    "- **Length of LCS:**\n",
    "  The value in `L[m][n]` gives the length of the longest common subsequence.\n",
    "\n",
    "- **Character Array `lcs`:**\n",
    "  An array is created to store the characters of the LCS. In Python, this can be a list.\n",
    "\n",
    "- **Traversing the L Table:**\n",
    "  Starting from the bottom-right corner of the `L` table:\n",
    "  - If the characters in sequences `X` and `Y` at positions `i-1` and `j-1` match (`X[i-1] == Y[j-1]`), this character is part of the LCS. Include it in the `lcs` array.\n",
    "  - Move diagonally up-left to the next cell (`i-1`, `j-1`).\n",
    "  - If characters don't match, move in the direction of the greater value between `L[i-1][j]` and `L[i][j-1]`."
   ]
  },
  {
   "cell_type": "code",
   "execution_count": null,
   "id": "f7fe378c-f996-45bf-bcf9-db7b6bf655a3",
   "metadata": {},
   "outputs": [],
   "source": []
  }
 ],
 "metadata": {
  "kernelspec": {
   "display_name": ".conda-mmyenv",
   "language": "python",
   "name": "conda-env-.conda-mmyenv-py"
  },
  "language_info": {
   "codemirror_mode": {
    "name": "ipython",
    "version": 3
   },
   "file_extension": ".py",
   "mimetype": "text/x-python",
   "name": "python",
   "nbconvert_exporter": "python",
   "pygments_lexer": "ipython3",
   "version": "3.9.18"
  }
 },
 "nbformat": 4,
 "nbformat_minor": 5
}

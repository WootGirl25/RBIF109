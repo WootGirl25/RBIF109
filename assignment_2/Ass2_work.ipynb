{
 "cells": [
  {
   "cell_type": "markdown",
   "id": "b8fd99a7-1a11-47cf-9498-da45a19dcdfa",
   "metadata": {},
   "source": [
    "## Assignment 2: Longest common subsequence \n",
    "\n",
    "Given two DNA sequences, find the longest subsequence present in both of them. A subsequence is a sequence that appears in the same relative order, but not necessarily contiguous. For example, “atg”, “agg”, “tag”, .. etc are subsequences of “atgtagg”, and the longest common subsequence of “atgtagg” and “ctgtag” is “tgtag”. Simulate 10 pairs of varying length of DNA sequences to demonstrate that your algorithm works. Hint: use dynamic programming. "
   ]
  },
  {
   "cell_type": "markdown",
   "id": "9e6041b0-d985-4ddb-80e9-2f540b2e4938",
   "metadata": {},
   "source": [
    "USE DP TO FIND THE LCS BETWEEN TWO SEQ\n",
    "Steps:\n",
    "\n",
    "2. Create 2D array - list of lists - to store lengths of LCSs of substrings\n",
    "3. Iterate through sequences and fill in array based on the recurrence relation:\n",
    "       - If characters match > increment value from prev diag\n",
    "       - If no match > take max value from cell above or left\n",
    "4. Trace back to find the LCS from bottom right corner\n",
    "5. Write function to generate sequence of random length (set range for length)\n",
    "6. execute in if __name__ = main\n",
    "       for x in range(10): generate sequence x2, input to find_lcs(), output to txt file.\n",
    "\n",
    "7. Write readme\n",
    "8. Comments:\n",
    "   * range set for lenght of realistic DNA seq - if used to find homology what would you typically use?\n",
    "   * is there an online tool to compare?\n",
    "   * \n",
    "   \n",
    "\n"
   ]
  },
  {
   "cell_type": "code",
   "execution_count": 2,
   "id": "cfad9b9d-d415-45ca-8f08-50aee2837677",
   "metadata": {},
   "outputs": [],
   "source": [
    "def find_lcs(seq1, seq2):\n",
    "    m, n = len(seq1), len(seq2)\n",
    "    \n",
    "    #create a dp 2D array (m+1)x(n+1), initiate with 0, \n",
    "    #where m[i] will represent rows, and n[j] will represent columns\n",
    "    array = [[0] * (n+1) for x in range(m+1)]\n",
    "    \n",
    "    #fill in array by double loop, by row (m), then by column (n)\n",
    "    for i in range(1, m+1): #start at one so we leave a row of zeros\n",
    "        for j in range(1, n+1): #start at one so we leave a column of zeros\n",
    "            #if bases match - use i/j-1 because range is +1\n",
    "            if seq1[i-1] == seq2[j-1]:\n",
    "                #assign array space\n",
    "                array[i][j] = 1 + array[i-1][j-1] \n",
    "            else: #if bases don't match\n",
    "                #find the max array value from top and left cell\n",
    "                array[i][j] = max(array[i-1][j], array[i][j-1])\n",
    "\n",
    "    #find LCS\n",
    "    #assign array index to the bottom right cell of the array (which also equals length of longest subsequence)\n",
    "    lcs = []\n",
    "    #reinitialize i/j to be the last index position of seq1/2\n",
    "    i, j = len(seq1), len(seq2)\n",
    "\n",
    "    while i>0 and j>0: #dont want to include first row/column of zeros - not part of sequence\n",
    "        if seq1[i-1] == seq2[j-1]: # we -1 b/c sequences are 0-indexed, but array is 1-indexed\n",
    "            #if bases match, add to lcs\n",
    "            lcs.append(seq1[i-1])\n",
    "            #move diaganally up the array\n",
    "            i -= 1\n",
    "            j -= 1\n",
    "        #if not, move in the direction of the greater value & do not assign to lcs\n",
    "        elif array[i-1][j] > array[i][j-1]:\n",
    "            i -= 1\n",
    "        else:\n",
    "            j -= 1\n",
    "    lcs.reverse()\n",
    "    return lcs"
   ]
  },
  {
   "cell_type": "code",
   "execution_count": 11,
   "id": "5f18f0c6-032c-477a-8751-c9dfb5f82c0d",
   "metadata": {},
   "outputs": [],
   "source": [
    "import random\n",
    "\n",
    "def generate_random_nucleotide_seq_length_5to20():\n",
    "    nucleotides = ['A', 'T', 'C', 'G']\n",
    "    sequence = ''\n",
    "    length = random.randint(5,20)\n",
    "    for x in range(length):\n",
    "        index = random.randint(0,3)\n",
    "        sequence += nucleotides[index]\n",
    "    return sequence \n",
    "        "
   ]
  },
  {
   "cell_type": "code",
   "execution_count": null,
   "id": "2d739485-43a4-4f14-adba-d1c108d388ab",
   "metadata": {
    "editable": true,
    "slideshow": {
     "slide_type": ""
    },
    "tags": []
   },
   "outputs": [
    {
     "name": "stdout",
     "output_type": "stream",
     "text": [
      "ATATTAACTCCCGT CTCTGCAGACTT TTAACTT\n",
      "TTCAAGGCTTATGGAAG GGGTCTCC GGTT\n",
      "CCTCCCTAGCGGTG TCAGTTG TCAGTG\n",
      "CCAGCATAG CGCTAAGA CGCTAG\n",
      "CATTCAGTTATC CTTGA CTTGA\n",
      "GCGGAC CTTAC CAC\n",
      "ACCGTATTGC CAATCGAAGGCT CCGAGC\n",
      "TGGTCATTGC CGATCGGACCAGA TGGCAG\n",
      "CGTGCATGGAAT CCCCATGA CCATGA\n",
      "GAAACATCAAAGA TTAACTC AACTC\n"
     ]
    }
   ],
   "source": [
    "if __name__ == \"__main__\":\n",
    "    with open('output.txt', 'w') as output_file:  # Open the file in write mode\n",
    "        for x in range(10):\n",
    "            seq1 = generate_random_nucleotide_seq_length_5to20()\n",
    "            seq2 = generate_random_nucleotide_seq_length_5to20()\n",
    "            lcs = find_lcs(seq1, seq2)\n",
    "            # Write to the output file \n",
    "            output_file.write(f'>Pair {x+1}\\n')\n",
    "            output_file.write(f'Sequence 1: {seq1}\\n')\n",
    "            output_file.write(f'Sequence 2: {seq2}\\n')\n",
    "            output_file.write(f'Longest Coding Sequence: {\"\".join(lcs)}\\n\\n')\n",
    "            # print(seq1, seq2, ''.join(lcs)) \n"
   ]
  },
  {
   "cell_type": "markdown",
   "id": "89693699",
   "metadata": {},
   "source": [
    "Simplified - notes can be added to readme."
   ]
  },
  {
   "cell_type": "code",
   "execution_count": null,
   "id": "bb75916a",
   "metadata": {},
   "outputs": [],
   "source": [
    "import random\n",
    "\n",
    "def find_lcs(seq1, seq2):\n",
    "    m, n = len(seq1), len(seq2)\n",
    "    \n",
    "    # Create a dp 2D array (m+1)x(n+1), initialized with 0\n",
    "    array = [[0] * (n + 1) for x in range(m + 1)]\n",
    "    \n",
    "    # Fill in array by row (m), then by column (n)\n",
    "    for i in range(1, m + 1):  # Start at one so we leave a row of zeros\n",
    "        for j in range(1, n + 1):  # Start at one so we leave a column of zeros\n",
    "            if seq1[i - 1] == seq2[j - 1]:\n",
    "                array[i][j] = 1 + array[i - 1][j - 1]\n",
    "            else:\n",
    "                array[i][j] = max(array[i - 1][j], array[i][j - 1])\n",
    "\n",
    "    # Find LCS\n",
    "    lcs = []\n",
    "    i, j = m, n\n",
    "    while i > 0 and j > 0:\n",
    "        if seq1[i - 1] == seq2[j - 1]:\n",
    "            lcs.append(seq1[i - 1])\n",
    "            i -= 1\n",
    "            j -= 1\n",
    "        elif array[i - 1][j] > array[i][j - 1]:\n",
    "            i -= 1\n",
    "        else:\n",
    "            j -= 1\n",
    "\n",
    "    # The lcs list is constructed in reverse order, so reverse it\n",
    "    lcs.reverse()\n",
    "    return lcs\n",
    "\n",
    "\n"
   ]
  }
 ],
 "metadata": {
  "kernelspec": {
   "display_name": "PyVenv109",
   "language": "python",
   "name": "python3"
  },
  "language_info": {
   "codemirror_mode": {
    "name": "ipython",
    "version": 3
   },
   "file_extension": ".py",
   "mimetype": "text/x-python",
   "name": "python",
   "nbconvert_exporter": "python",
   "pygments_lexer": "ipython3",
   "version": "3.13.1"
  }
 },
 "nbformat": 4,
 "nbformat_minor": 5
}

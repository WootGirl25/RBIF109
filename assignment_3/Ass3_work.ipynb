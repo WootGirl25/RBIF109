{
 "cells": [
  {
   "cell_type": "markdown",
   "metadata": {},
   "source": [
    "(3.1) FASTQ to FASTA converter: Implement a FASTQ to FASTA file format converter in python (the input is a FASTQ file and the output is a FASTA file)\n",
    "\n",
    "(3.2) I have a sam file called “sequences.sam” and a genomic feature file called “features.bed”. I would like to annotate all the sequences in the sam file with the bed file (overlapping features). Can you write down the commands needed using samtools and bedtools?\n",
    "\n",
    "(3.3) Can you obtain at least two mRNA isoforms of TP53 from NCBI or other online resources? Generate a bed file containing both, color them differently and visualize them on UCSC genome browser? Take a screenshot of the visualization.\n",
    "\n"
   ]
  },
  {
   "cell_type": "markdown",
   "metadata": {},
   "source": [
    "3.1 \n",
    "execute:python3 fastq_fasta_converter.py input_file\n",
    "\n",
    "- read in input file line by line\n",
    "-iterate over lines: if starts with @ write to output, \\n, next line also added to output\n",
    "\n"
   ]
  },
  {
   "cell_type": "code",
   "execution_count": null,
   "metadata": {},
   "outputs": [],
   "source": [
    "import sys\n",
    "import os\n",
    "\n",
    "#### assign input & output ####\n",
    "input_fastq_file = sys.argv[1]\n",
    "output_fasta_file = os.path.splitext(input_fastq_file)[0] + '.fa'\n",
    "\n",
    "#### read in each line ####\n",
    "\n",
    "with open(input_fastq_file, 'r') as fq, open(output_fasta_file, 'w') as fa:\n",
    "    while True:\n",
    "        identifier = fq.readline().strip()\n",
    "        if not identifier:\n",
    "            break # end of file\n",
    "        if not identifier.startswith('@'):\n",
    "            continue # skip lines that don't stat with @\n",
    "        sequence = fq.readline().strip()\n",
    "        fq.readline() #skip + \n",
    "        fq.readline() #skip quality score\n",
    "\n",
    "        fa_seq_header = '>' + identifier[1:]\n",
    "        fa.write(f'{fa_seq_header}\\n{sequence}\\n')\n",
    "\n",
    "print(f'Conversion complete: {input_fastq_file} > {output_fasta_file}')\n",
    "\n"
   ]
  },
  {
   "cell_type": "markdown",
   "metadata": {},
   "source": [
    "next step - download fastqfile \n"
   ]
  },
  {
   "cell_type": "markdown",
   "metadata": {},
   "source": [
    "(3.2) I have a sam file called “sequences.sam” and a genomic feature file called “features.bed”. I would like to annotate all the sequences in the sam file with the bed file (overlapping features). Can you write down the commands needed using samtools and bedtools?\n",
    "\n",
    "Steps:  \n",
    "Samtools [Convert sam > bam, sort bam, index bam]  [1]\n",
    "bedtools [intersect bam with annotated bed]  [2]\n"
   ]
  },
  {
   "cell_type": "raw",
   "metadata": {},
   "source": [
    "samtools view -b sequences.sam > sequences.bam\n",
    "samtools sort sequences.bam -o sequences_sorted.bam\n",
    "samtools index sequences_sorted.bam\n",
    "bedtools intersect -a sequences_sorted.bam -b features.bed > sequences_annotated.bam"
   ]
  },
  {
   "cell_type": "markdown",
   "metadata": {},
   "source": [
    "(3.3) Can you obtain at least two mRNA isoforms of TP53 from NCBI or other online resources? Generate a bed file containing both, color them differently and visualize them on UCSC genome browser? Take a screenshot of the visualization."
   ]
  },
  {
   "cell_type": "code",
   "execution_count": null,
   "metadata": {},
   "outputs": [],
   "source": []
  },
  {
   "cell_type": "markdown",
   "metadata": {},
   "source": [
    "References:\n",
    "[1] https://www.htslib.org/doc/samtools.html\n",
    "[2] https://bedtools.readthedocs.io/en/latest/content/tools/intersect.html#\n"
   ]
  }
 ],
 "metadata": {
  "kernelspec": {
   "display_name": "PyVenv109",
   "language": "python",
   "name": "python3"
  },
  "language_info": {
   "name": "python",
   "version": "3.13.1"
  }
 },
 "nbformat": 4,
 "nbformat_minor": 4
}

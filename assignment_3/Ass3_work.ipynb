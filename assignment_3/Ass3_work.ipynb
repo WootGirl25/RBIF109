{
 "cells": [
  {
   "cell_type": "markdown",
   "metadata": {},
   "source": [
    "(3.1) FASTQ to FASTA converter: Implement a FASTQ to FASTA file format converter in python (the input is a FASTQ file and the output is a FASTA file)\n",
    "\n",
    "(3.2) I have a sam file called “sequences.sam” and a genomic feature file called “features.bed”. I would like to annotate all the sequences in the sam file with the bed file (overlapping features). Can you write down the commands needed using samtools and bedtools?\n",
    "\n",
    "(3.3) Can you obtain at least two mRNA isoforms of TP53 from NCBI or other online resources? Generate a bed file containing both, color them differently and visualize them on UCSC genome browser? Take a screenshot of the visualization.\n",
    "\n"
   ]
  },
  {
   "cell_type": "markdown",
   "metadata": {},
   "source": [
    "3.1 \n",
    "execute:python3 fastq_fasta_converter.py input_file\n",
    "\n",
    "- read in input file line by line\n",
    "-iterate over lines: if starts with @ write to output, \\n, next line also added to output\n",
    "\n"
   ]
  },
  {
   "cell_type": "code",
   "execution_count": null,
   "metadata": {},
   "outputs": [],
   "source": [
    "import sys\n",
    "import os\n",
    "\n",
    "#### assign input & output ####\n",
    "input_fastq_file = sys.argv[1]\n",
    "output_fasta_file = os.path.splitext(input_fastq_file)[0] + '.fa'\n",
    "\n",
    "#### read in each line ####\n",
    "\n",
    "with open(input_fastq_file, 'r') as fq, open(output_fasta_file, 'w') as fa:\n",
    "    while True:\n",
    "        identifier = fq.readline().strip()\n",
    "        if not identifier:\n",
    "            break # end of file\n",
    "        if not identifier.startswith('@'):\n",
    "            continue # skip lines that don't stat with @\n",
    "        sequence = fq.readline().strip()\n",
    "        fq.readline() #skip + \n",
    "        fq.readline() #skip quality score\n",
    "\n",
    "        fa_seq_header = '>' + identifier[1:]\n",
    "        fa.write(f'{fa_seq_header}\\n{sequence}\\n')\n",
    "\n",
    "print(f'Conversion complete: {input_fastq_file} > {output_fasta_file}')\n",
    "\n"
   ]
  },
  {
   "cell_type": "markdown",
   "metadata": {},
   "source": [
    "next step - download fastqfile [5] \n"
   ]
  },
  {
   "cell_type": "markdown",
   "metadata": {},
   "source": [
    "(3.2) I have a sam file called “sequences.sam” and a genomic feature file called “features.bed”. I would like to annotate all the sequences in the sam file with the bed file (overlapping features). Can you write down the commands needed using samtools and bedtools?\n",
    "\n",
    "Steps:  \n",
    "Samtools [Convert sam > bam, sort bam, index bam]  [1]\n",
    "bedtools [intersect bam with annotated bed]  [2]\n"
   ]
  },
  {
   "cell_type": "raw",
   "metadata": {},
   "source": [
    "samtools view -b sequences.sam > sequences.bam\n",
    "samtools sort sequences.bam -o sequences_sorted.bam\n",
    "samtools index sequences_sorted.bam #do not need to rename as it creates an accompanying index file.\n",
    "bedtools intersect -a sequences_sorted.bam -b features.bed > sequences_annotated.bam"
   ]
  },
  {
   "cell_type": "markdown",
   "metadata": {},
   "source": [
    "(3.3) Can you obtain at least two mRNA isoforms of TP53 from NCBI or other online resources? Generate a bed file containing both, color them differently and visualize them on UCSC genome browser? Take a screenshot of the visualization.\n",
    "\n",
    "> STEPS:\n",
    "> Download isoforms [3], and genome assembly GRCh38.p14 chromosome 17 [4]\n",
    "> unzip reference file\n",
    "> Use BWA to align fasta to reference genome  \n",
    "> Samtools to convert sam > bam, sort, index  \n",
    "> Bedtools to convert bam > bed + add color, combine bed files  \n",
    "> Visualize on UCSC"
   ]
  },
  {
   "cell_type": "code",
   "execution_count": null,
   "metadata": {},
   "outputs": [],
   "source": [
    "#bash#\n",
    "gunzip Homo_sapiens.GRCh38.dna.chromosome.17.fa.gz  # dont need to rename, this changes the file from .fa.gz to .fa\n",
    "reference=\"Homo_sapiens.GRCh38.dna.chromosome.17.fa\"\n",
    "bwa index $reference\n",
    "###note### recompressed file to .fa.gz due to large storage size. deleted index files of reference.\n",
    "bwa mem $reference isoform.fa > isoform.sam  # sam is aligned file\n",
    "samtools view -b isoform.sam > isoform.bam #binary aligned file\n",
    "samtools sort isoform.bam -o isoform_sorted.bam\n",
    "samtools index isoform_sorted.bam #creates bai file\n",
    "bedtools bamtobed -i isoform_sorted.bam > isoform.bed\n",
    "# awk '{OFS=\"\\t\"; print $0, \"255,0,0\"}' isoform.bed > isoform_colored.bed\n",
    "# ^^ the above is wrong. the Rgb field must be in the 9th column, the traditional bamtobed only creates 6 columns.\n",
    "# Therefore we must add col#7 (thickStart) and col#8 (thickEnd) as well as Rgb. Thickstart/end can copy the coordinate start-end per guidelines\n",
    "#correct awk command below:\n",
    "awk '{OFS=\"\\t\"; print $1, $2, $3, $4, $5, $6, $2, $3, \"0,255,0\"}' isoform.bed > isoform_colored.bed\n",
    "cat isoform1_colored.bed isoform2_colored.bed > combined_isoforms.bed"
   ]
  },
  {
   "cell_type": "markdown",
   "metadata": {},
   "source": [
    "References:\n",
    "[1] https://www.htslib.org/doc/samtools.html  \n",
    "[2] https://bedtools.readthedocs.io/en/latest/content/tools/intersect.html#  \n",
    "[3] https://www.ncbi.nlm.nih.gov/gene/7157  \n",
    "[4] https://ftp.ensembl.org/pub/release-113/fasta/homo_sapiens/dna/  \n",
    "[5] TESTX_H7YRLADXX_S1_L001_R1_001.fastq.gz renamed to TestX.fastq from https://github.com/hartwigmedical/testdata\n"
   ]
  }
 ],
 "metadata": {
  "kernelspec": {
   "display_name": ".conda-mmyenv",
   "language": "python",
   "name": "conda-env-.conda-mmyenv-py"
  },
  "language_info": {
   "codemirror_mode": {
    "name": "ipython",
    "version": 3
   },
   "file_extension": ".py",
   "mimetype": "text/x-python",
   "name": "python",
   "nbconvert_exporter": "python",
   "pygments_lexer": "ipython3",
   "version": "3.9.18"
  }
 },
 "nbformat": 4,
 "nbformat_minor": 4
}

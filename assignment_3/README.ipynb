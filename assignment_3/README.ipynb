{
 "cells": [
  {
   "cell_type": "markdown",
   "id": "06952a12-ade0-41e9-84bf-650642e08203",
   "metadata": {},
   "source": [
    "## RBIF109 Assignment 3  \n",
    "Author: Laura Wooten  "
   ]
  },
  {
   "cell_type": "markdown",
   "id": "57524f67-818e-4322-b4d7-c0f2227f199f",
   "metadata": {},
   "source": [
    "**(3.1) FASTQ to FASTA converter: Implement a FASTQ to FASTA file format converter in python (the input is a FASTQ file and the output is a FASTA file)**\n",
    "\n",
    "Input files:  \n",
    "TestX.fa [1]\n",
    "\n",
    "Output files:  \n",
    "TestX.fastq\n",
    "\n",
    "Requirements:  \n",
    "Python3 must be installed on your operating system.\n",
    "\n",
    "Execute the following script in the terminal as depicted:  \n",
    "python3 longest_common_subsequence.py TextX.fa\n",
    "\n",
    "Steps:  \n",
    "1. Assigns the input file to a variable.\n",
    "2. Reads in the file line-by-line in groups of 4 where the first line begins with an \"@\" character.\n",
    "3. Assigns the first and second lines to variables.\n",
    "4. Skips over the remaining two lines in the group.\n",
    "5. Writes the two variables to the output file, replacing the \"@\" of the first line with \">\".\n",
    "6. Continues to the next iteration until it reaches the end of file.\n",
    "\n"
   ]
  },
  {
   "cell_type": "markdown",
   "id": "0d6dd065-ec26-4eb3-9bfa-bf207f313bce",
   "metadata": {},
   "source": [
    "**(3.2) I have a sam file called “sequences.sam” and a genomic feature file called “features.bed”. I would like to annotate all the sequences in the sam file with the bed file (overlapping features). Can you write down the commands needed using samtools and bedtools?**\n",
    "\n",
    "Steps:  \n",
    "1. Use samtools [2] to convert file to BAM, sort, and index.\n",
    "2. Use bedtools [3] to intersect BAM with BED. "
   ]
  },
  {
   "cell_type": "code",
   "execution_count": null,
   "id": "0ac0ebd4-44d2-4ccf-9448-31523435cebc",
   "metadata": {},
   "outputs": [],
   "source": [
    "samtools view -b sequences.sam > sequences.bam\n",
    "samtools sort sequences.bam -o sequences_sorted.bam\n",
    "samtools index sequences_sorted.bam \n",
    "bedtools intersect -a sequences_sorted.bam -b features.bed > sequences_annotated.bam"
   ]
  },
  {
   "cell_type": "markdown",
   "id": "55f7e38e-f425-4f03-9cc4-f5387572dd4b",
   "metadata": {},
   "source": [
    "**(3.3) Can you obtain at least two mRNA isoforms of TP53 from NCBI or other online resources? Generate a bed file containing both, color them differently and visualize them on UCSC genome browser? Take a screenshot of the visualization.**\n",
    "\n",
    "Steps:  \n",
    "1. Download isoforms [4], and genome assembly GRCh38.p14 chromosome 17 as the reference [5].\n",
    "2. Unzip & index reference file\n",
    "3. BWA to align to reference\n",
    "4. Samtools to convert to BAM, sort, index\n",
    "5. Bedtools to convert to BED\n",
    "6. awk to add RBG\n",
    "7. cat to join BED files."
   ]
  },
  {
   "cell_type": "code",
   "execution_count": null,
   "id": "d03dc532-72bb-470d-b893-15b873c3f962",
   "metadata": {},
   "outputs": [],
   "source": [
    "#bash#\n",
    "gunzip Homo_sapiens.GRCh38.dna.chromosome.17.fa.gz\n",
    "reference=\"Homo_sapiens.GRCh38.dna.chromosome.17.fa\"\n",
    "bwa index $reference\n",
    "\n",
    "##per isoform##\n",
    "bwa mem $reference isoform.fa > isoform.sam\n",
    "samtools view -b isoform.sam > isoform.bam \n",
    "samtools sort isoform.bam -o isoform_sorted.bam\n",
    "samtools index isoform_sorted.bam \n",
    "bedtools bamtobed -i isoform_sorted.bam > isoform.bed\n",
    "awk '{OFS=\"\\t\"; print $0, \"0,255,0\"}' isoform.bed > isoform_colored.bed\n",
    "\n",
    "##join##\n",
    "cat isoform1_colored.bed isoform2_colored.bed > combined_isoforms.bed"
   ]
  },
  {
   "cell_type": "markdown",
   "id": "e73b020f-3629-4551-a21a-cfe18a9b53f1",
   "metadata": {},
   "source": [
    "![alt text](image.jpg)"
   ]
  },
  {
   "cell_type": "markdown",
   "id": "958ee9dd-bbc2-4df5-a34a-cb3dd63b7d39",
   "metadata": {},
   "source": [
    "References:\n",
    "[1] TESTX_H7YRLADXX_S1_L001_R1_001.fastq.gz renamed to TestX.fastq from https://github.com/hartwigmedical/testdata  \n",
    "[2] https://www.htslib.org/doc/samtools.html  \n",
    "[3] https://bedtools.readthedocs.io/en/latest/content/tools/intersect.html#  \n",
    "[4] https://www.ncbi.nlm.nih.gov/gene/7157  \n",
    "[5] https://ftp.ensembl.org/pub/release-113/fasta/homo_sapiens/dna/  \n"
   ]
  }
 ],
 "metadata": {
  "kernelspec": {
   "display_name": ".conda-mmyenv",
   "language": "python",
   "name": "conda-env-.conda-mmyenv-py"
  },
  "language_info": {
   "codemirror_mode": {
    "name": "ipython",
    "version": 3
   },
   "file_extension": ".py",
   "mimetype": "text/x-python",
   "name": "python",
   "nbconvert_exporter": "python",
   "pygments_lexer": "ipython3",
   "version": "3.9.18"
  }
 },
 "nbformat": 4,
 "nbformat_minor": 5
}

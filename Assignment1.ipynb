{
 "cells": [
  {
   "cell_type": "markdown",
   "id": "9ab1d849-dc4e-425b-a7a8-c0e8452b23e8",
   "metadata": {},
   "source": [
    "Assignment #1, due Tuesday Week #3\n",
    "Assignment 1: In silico protein translation using Python and Expasy\n",
    "You will implement a simple DNA to protein in silico protein translator. You need to consider all the codons defined in the genetic codon wikipedia page (https://en.wikipedia.org/wiki/Genetic_code). You can define the gene by using the start and stop codon (truncated protein with missing start or stop codon do not need to be translated). Simulate 10 random DNA sequences of 200bp in length and check to see whether your code works. Compare the results you get with the Expasy Translate tool. Any difference? Why?\n",
    "\n",
    "\n",
    "Note: Consider all three reading frames, and both the strands."
   ]
  },
  {
   "cell_type": "markdown",
   "id": "ae9a18d9-184b-447b-9814-b917b0269c0b",
   "metadata": {},
   "source": [
    "Steps:\n",
    "1. write a function to create 10 random DNA sequences of 200bp\n",
    "To consider all 6 reading frames:\n",
    "3.  reverse complement function\n",
    "4.  write a function that incorporates r.c function and returns all 6 frames as a list.\n",
    "5.  write a transcribe function complements each frame, and converts T > U\n",
    "6.  write a function that defines and returns a gene (does it have a start and stop?)\n",
    "7.  read in codon table as dict\n",
    "8.  use codon_dict to translate gene\n",
    "\n",
    "\n",
    "Layout:\n",
    "1. read in csv"
   ]
  },
  {
   "cell_type": "markdown",
   "id": "11ec3a08-5a2b-4e9b-b179-42939065acdb",
   "metadata": {},
   "source": [
    "Simulate 10 random DNA sequences of 200bp in length"
   ]
  },
  {
   "cell_type": "code",
   "execution_count": 8,
   "id": "f86b07ee-22d1-4f89-b6d2-c1e7c480fe9d",
   "metadata": {},
   "outputs": [],
   "source": [
    "import random\n",
    "\n",
    "def generate_random_nucleotide_seq(length):\n",
    "    nucleotides = ['A', 'T', 'C', 'G']\n",
    "    sequence = ''\n",
    "    for x in range(length):\n",
    "        index = random.randint(0,3)\n",
    "        sequence += nucleotides[index]\n",
    "    return sequence"
   ]
  },
  {
   "cell_type": "markdown",
   "id": "23f6d621-875c-4887-96c8-8f5ef5c6fe68",
   "metadata": {},
   "source": [
    "Create a function to reverse complement sequence"
   ]
  },
  {
   "cell_type": "code",
   "execution_count": 13,
   "id": "23b8bd54-df4e-47e4-b84b-1f8b3aa39699",
   "metadata": {},
   "outputs": [],
   "source": [
    "# sequence = ATTGCCA (len = 7)\n",
    "def reverse_complement(sequence):\n",
    "    nucleotide_dict = {'A':'T', 'C':'G', 'G':'C', 'T':'A'}\n",
    "    rc = ''\n",
    "\n",
    "    for i in range(len(sequence)):\n",
    "        nuc = sequence[-(i+1)]\n",
    "        rc += (nucleotide_dict[nuc])\n",
    "\n",
    "    return rc"
   ]
  },
  {
   "cell_type": "code",
   "execution_count": 14,
   "id": "8756e915-f0f0-4742-8231-206a2352e3b8",
   "metadata": {},
   "outputs": [
    {
     "data": {
      "text/plain": [
       "'TGGCAAT'"
      ]
     },
     "execution_count": 14,
     "metadata": {},
     "output_type": "execute_result"
    }
   ],
   "source": [
    "# reverse_complement('ATTGCCA')"
   ]
  },
  {
   "cell_type": "markdown",
   "id": "dc276ba4-df84-4a3f-8c3b-489d9dbed209",
   "metadata": {},
   "source": [
    "Create function to read in codon table as dictionary from codon.txt"
   ]
  },
  {
   "cell_type": "code",
   "execution_count": 5,
   "id": "cca250c1-6fa1-40b3-ad35-df44dafa0e49",
   "metadata": {},
   "outputs": [],
   "source": [
    "import csv\n",
    "\n",
    "def read_tsv_to_dict(file_path):\n",
    "    dic = dict()\n",
    "    with open(file_path, 'r') as file:\n",
    "        r = csv.DictReader(file, delimiter='\\t')\n",
    "        for row in r:\n",
    "            key = row[r.fieldnames[0]] #first column \"Codon\"\n",
    "            value = row[r.fieldnames[1]] #second column \"Amino Acid\"\n",
    "            dic[key] = value\n",
    "    return dic\n",
    "\n"
   ]
  },
  {
   "cell_type": "code",
   "execution_count": 6,
   "id": "c8600685-9eee-409c-b70e-8fb0f25f66c0",
   "metadata": {},
   "outputs": [
    {
     "ename": "IndexError",
     "evalue": "list index out of range",
     "output_type": "error",
     "traceback": [
      "\u001b[0;31m---------------------------------------------------------------------------\u001b[0m",
      "\u001b[0;31mIndexError\u001b[0m                                Traceback (most recent call last)",
      "Cell \u001b[0;32mIn[6], line 3\u001b[0m\n\u001b[1;32m      1\u001b[0m \u001b[38;5;66;03m#example usage:\u001b[39;00m\n\u001b[1;32m      2\u001b[0m file_path \u001b[38;5;241m=\u001b[39m \u001b[38;5;124m'\u001b[39m\u001b[38;5;124m./codon.txt\u001b[39m\u001b[38;5;124m'\u001b[39m\n\u001b[0;32m----> 3\u001b[0m codon_dict \u001b[38;5;241m=\u001b[39m \u001b[43mread_tsv_to_dict\u001b[49m\u001b[43m(\u001b[49m\u001b[43mfile_path\u001b[49m\u001b[43m)\u001b[49m\n\u001b[1;32m      4\u001b[0m \u001b[38;5;28mprint\u001b[39m(data_dict)\n",
      "Cell \u001b[0;32mIn[5], line 9\u001b[0m, in \u001b[0;36mread_tsv_to_dict\u001b[0;34m(file_path)\u001b[0m\n\u001b[1;32m      7\u001b[0m     \u001b[38;5;28;01mfor\u001b[39;00m row \u001b[38;5;129;01min\u001b[39;00m r:\n\u001b[1;32m      8\u001b[0m         key \u001b[38;5;241m=\u001b[39m row[r\u001b[38;5;241m.\u001b[39mfieldnames[\u001b[38;5;241m0\u001b[39m]] \u001b[38;5;66;03m#first column \"Codon\"\u001b[39;00m\n\u001b[0;32m----> 9\u001b[0m         value \u001b[38;5;241m=\u001b[39m row[\u001b[43mr\u001b[49m\u001b[38;5;241;43m.\u001b[39;49m\u001b[43mfieldnames\u001b[49m\u001b[43m[\u001b[49m\u001b[38;5;241;43m1\u001b[39;49m\u001b[43m]\u001b[49m] \u001b[38;5;66;03m#second column \"Amino Acid\"\u001b[39;00m\n\u001b[1;32m     10\u001b[0m         dic[key] \u001b[38;5;241m=\u001b[39m value\n\u001b[1;32m     11\u001b[0m \u001b[38;5;28;01mreturn\u001b[39;00m dic\n",
      "\u001b[0;31mIndexError\u001b[0m: list index out of range"
     ]
    }
   ],
   "source": [
    "#example usage:\n",
    "# file_path = './codon.txt'\n",
    "# codon_dict = read_tsv_to_dict(file_path)\n",
    "# print(data_dict)"
   ]
  },
  {
   "cell_type": "markdown",
   "id": "22dfea1e-35be-49f7-9577-7f40224f3c8f",
   "metadata": {},
   "source": [
    "Create a function that:\n",
    "1. takes in a sequence\n",
    "2. finds the reverse complement\n",
    "3. finds 3 reading frames per direction\n",
    "4. returns a list of 6 frames"
   ]
  },
  {
   "cell_type": "code",
   "execution_count": 30,
   "id": "13493f0c-ba27-42bf-b88f-76a5d50ddee1",
   "metadata": {},
   "outputs": [],
   "source": [
    "def find_3_frames(sequence):\n",
    "    list = []\n",
    "    for i in range(3):\n",
    "        list.append(sequence[i:])\n",
    "    \n",
    "    return list\n",
    "\n",
    "def create_frame_dict(sequence):\n",
    "        #frames = {i: '' for i in range(1,7)}\n",
    "    forward = find_3_frames(sequence)\n",
    "    reverse = find_3_frames(reverse_complement(sequence))\n",
    "    frames = forward + reverse #results in a list of 6 frames\n",
    "    # print(frames)\n",
    "\n",
    "    #list comp to create dictionary that assigns numbers 1-6 to each item in frames list\n",
    "    # dic = {i+1: frames[i] for i in range(len(frames))} <-- decided against this - unnessesary\n",
    "\n",
    "    return frames\n",
    "\n",
    "    "
   ]
  },
  {
   "cell_type": "code",
   "execution_count": 31,
   "id": "e0f0a826-1efd-4afa-a3c6-ebd868baaecb",
   "metadata": {},
   "outputs": [
    {
     "name": "stdout",
     "output_type": "stream",
     "text": [
      "TACGAAGGTTAAGCAGTTGA\n",
      "['TACGAAGGTTAAGCAGTTGA', 'ACGAAGGTTAAGCAGTTGA', 'CGAAGGTTAAGCAGTTGA', 'TCAACTGCTTAACCTTCGTA', 'CAACTGCTTAACCTTCGTA', 'AACTGCTTAACCTTCGTA']\n"
     ]
    }
   ],
   "source": [
    "#test\n",
    "\n",
    "sequence = generate_random_nucleotide_seq(20)\n",
    "print(sequence)\n",
    "frames = create_frame_dict(sequence)\n",
    "print(frames)"
   ]
  },
  {
   "cell_type": "markdown",
   "id": "05e173d4-c38f-4f53-a131-58c4468cada8",
   "metadata": {},
   "source": [
    "5.  write a transcribe function complements each frame, and converts T > U"
   ]
  },
  {
   "cell_type": "code",
   "execution_count": 32,
   "id": "d0802522-fdba-4617-80fa-bb13f7ff92c8",
   "metadata": {},
   "outputs": [],
   "source": [
    "def transcribe(frame_list):\n",
    "    nuc_dict = {'A':'U', 'C':'G', 'G':'C', 'T':'A'}\n",
    "    mRNA_frames = []\n",
    "    for frame in frame_list:\n",
    "        mRNA = ''\n",
    "        for nucleotide in frame:\n",
    "            mRNA = mRNA + nuc_dict[nucleotide]\n",
    "        mRNA_frames.append(mRNA)\n",
    "    return mRNA_frames\n",
    "            "
   ]
  },
  {
   "cell_type": "code",
   "execution_count": 34,
   "id": "1f69d479-8414-442c-87ce-c7f0699e78b6",
   "metadata": {},
   "outputs": [
    {
     "name": "stdout",
     "output_type": "stream",
     "text": [
      "['AUGCUUCCAAUUCGUCAACU', 'UGCUUCCAAUUCGUCAACU', 'GCUUCCAAUUCGUCAACU', 'AGUUGACGAAUUGGAAGCAU', 'GUUGACGAAUUGGAAGCAU', 'UUGACGAAUUGGAAGCAU']\n"
     ]
    }
   ],
   "source": [
    "#test\n",
    "transcribed_frames = transcribe(frames)\n",
    "print(transcribed_frames)"
   ]
  },
  {
   "cell_type": "markdown",
   "id": "368de8fe-2d33-46d7-9d2f-4b3ca4f15824",
   "metadata": {},
   "source": [
    "6. Write a function that defines a gene - Does it have a start and stop codon IN THE SAME FRAME?"
   ]
  },
  {
   "cell_type": "code",
   "execution_count": null,
   "id": "87661e8f-2052-446b-863f-fa3ace38b5ae",
   "metadata": {},
   "outputs": [],
   "source": [
    "def find_orf(string, codon_dict):\n",
    "    "
   ]
  }
 ],
 "metadata": {
  "kernelspec": {
   "display_name": "Python 3 (ipykernel)",
   "language": "python",
   "name": "python3"
  },
  "language_info": {
   "codemirror_mode": {
    "name": "ipython",
    "version": 3
   },
   "file_extension": ".py",
   "mimetype": "text/x-python",
   "name": "python",
   "nbconvert_exporter": "python",
   "pygments_lexer": "ipython3",
   "version": "3.13.1"
  }
 },
 "nbformat": 4,
 "nbformat_minor": 5
}

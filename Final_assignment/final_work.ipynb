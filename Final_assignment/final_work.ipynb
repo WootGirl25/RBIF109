{
 "cells": [
  {
   "cell_type": "markdown",
   "id": "475b6f6f-baee-463b-bc58-3ff3368e139b",
   "metadata": {},
   "source": [
    "Final Assignment: \r\n",
    "\r\n",
    " \r\n",
    "\r\n",
    "Dr. Herrera has received tumor samples from numerous patients and is eager to explore the gene expression in a specific tumor sample. Rather than analyzing all patient samples, Dr. Herrera chose to randomly select one sample to gain preliminary insights into gene expression. His laboratory scientist processed the tumor tissues at a molecular level and dispatched a sample for NGS sequencing. The attached fastq files were returned to Dr. Herrera. Your assignment is to design an informatics workflow to analyze and report on the expressed genes in this sample. \r\n",
    "\r\n",
    " \r\n",
    "\r\n",
    "Initiate your bioinformatics approach by assessing the quality of the NGS fastq files. After the quality check, provide feedback on sequence quality and the number of reads present in the sample. You can employ built-in functions from Biopython for this step. Once the genes are identified, utilize a genome browser like IGV (Integrated Genome Viewer) at https://www.igv.org to visualize them. Hints: Apply the concepts learned in week 6 lectures and other relevant information to guide your analysis. (samtools, bedtools) \r\n",
    "\r\n",
    " \r\n",
    "\r\n",
    "Submit your script file along with a README. Additionally, discuss the relevance of your results in cancer biology. "
   ]
  },
  {
   "cell_type": "markdown",
   "id": "374b0256-0189-4cb7-89aa-27b0663fe75d",
   "metadata": {},
   "source": [
    "1. install biopython\n",
    "2. import SeqIO - read and parse fastq file\n",
    "3. find # of reads present in the sample\n",
    "4. calculate quality scores\n",
    "5. maybe visulize quality scores\n",
    "6. Quality trimming if necessary? Trimmomatic?\n",
    "7. download reference genome - either by using wget (bash) or by physically downloading\n",
    "8. use bwq to index refrence genome\n",
    "9. use star to align both paired reads to reference\n",
    "11. samtools to convert to bam, sort, index\n",
    "12. download refernce genome annotation file \n",
    "13. bedtools to intersect with annotation file (second intersect + save as txt file to extract gene names?)\n",
    "14. extract unique gene names - use bash and pipes\n",
    "15. ?? Quantify gene expression with bedtools\n",
    "    - conert gtf annotation file to bed\n",
    "    - count overlapping reads with bedtools coverage\n",
    "16. visulize with IGV > load ref genome, then load sorted.bam file"
   ]
  },
  {
   "cell_type": "markdown",
   "id": "c3957e4f-a6a5-42ae-a998-d96071f7b3fa",
   "metadata": {},
   "source": [
    "Since we are dealing with large file i dont want to parse the whole fastq into one variable - could possibly overload memory. Instead I will use an iterator to parse the fastq files one record at a time, during each iteration we can calculate quality metrics as we go. Usually when parsing in fastq files and assessing for quality we would look at sequence quality (statistics and distribution of scores across all reads), per base quality (across all reads - indicates consistantly low quality regions), and read length. But from a quick glance at the files, they all have the same quality score and all appear to be of the same length. "
   ]
  },
  {
   "cell_type": "code",
   "execution_count": 6,
   "id": "91fe3e78-7157-44ad-8bda-6f48e2a84f02",
   "metadata": {},
   "outputs": [
    {
     "ename": "ModuleNotFoundError",
     "evalue": "No module named 'biopython'",
     "output_type": "error",
     "traceback": [
      "\u001b[0;31m---------------------------------------------------------------------------\u001b[0m",
      "\u001b[0;31mModuleNotFoundError\u001b[0m                       Traceback (most recent call last)",
      "Cell \u001b[0;32mIn[6], line 1\u001b[0m\n\u001b[0;32m----> 1\u001b[0m \u001b[38;5;28;01mfrom\u001b[39;00m\u001b[38;5;250m \u001b[39m\u001b[38;5;21;01mbiopython\u001b[39;00m\u001b[38;5;250m \u001b[39m\u001b[38;5;28;01mimport\u001b[39;00m SeqIO\n",
      "\u001b[0;31mModuleNotFoundError\u001b[0m: No module named 'biopython'"
     ]
    }
   ],
   "source": [
    "from Bio import SeqIO\n",
    "\n",
    "fastq_r1 = './sample1_R1.fastq'\n",
    "fastq_r2 = './sample1_R2.fastq'\n",
    "\n",
    "def assess_quality(file):\n",
    "    all_scores = []\n",
    "    read_lengths = []\n",
    "    read_count = 0\n",
    "\n",
    "    #parse fastq file\n",
    "    for record in SeqIO.parse(file, 'fasta'):\n",
    "        read_count += 1\n",
    "        quality_scores = record.letter_annotations['phred_quality']\n",
    "        all_scores.extend(quality_scores) ## need to understand why we use extend instead of append here\n",
    "        read_lengths.append(len(quality_scores))\n",
    "        \n"
   ]
  }
 ],
 "metadata": {
  "kernelspec": {
   "display_name": ".conda-mmyenv",
   "language": "python",
   "name": "conda-env-.conda-mmyenv-py"
  },
  "language_info": {
   "codemirror_mode": {
    "name": "ipython",
    "version": 3
   },
   "file_extension": ".py",
   "mimetype": "text/x-python",
   "name": "python",
   "nbconvert_exporter": "python",
   "pygments_lexer": "ipython3",
   "version": "3.9.18"
  }
 },
 "nbformat": 4,
 "nbformat_minor": 5
}

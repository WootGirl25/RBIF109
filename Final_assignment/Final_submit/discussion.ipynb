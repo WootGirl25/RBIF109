{
 "cells": [
  {
   "cell_type": "markdown",
   "metadata": {},
   "source": [
    "## RBIF109 Final Project Discussion\n",
    "Laura Wooten\n",
    "\n",
    "### Part 1 \n",
    "\n",
    "The output of `quality_check.py` prints the following to the terminal for each fastq file:  \n",
    "The file name, number of sequencing reads, quality scores of the first 10 reads, unique quality scores and unique read lengths.  \n",
    "In a typical workflow it seems that FastQC is the norm to analyze read quality, however the project prompt seemed to suggest analyzing based on more manual methods. Therefore the values printed to the console are those that I considered to be pieces of information necessary to make an initial assumption of the quality of the RNA-seq data. When parsing in fastq files and assessing for quality I might want to look at sequence quality (statistics and distribution of scores across all reads), per base quality across all reads, which would indicate consistantly low quality regions, and read length. But from a quick glance at the files, they all have the same quality score and all appear to be of the same length. To check this for sure I used SeqIO to parse each read and their corresponding quality line to get a quick overview of the data. Finding out that each read was of the same length was not suprising, as Illumina typically generates uniform short reads of 150bp from paired end sequencing []. Taking a look at the first 10 quality scores of the first sequence was expected from breifly scanning through the files, however its unusual for the beginning of a read. My initial thought was to visulize the quality scores for a visual representation of how the quality scores varied across each base for each read, but decided to do a preliminary representation of all quality scores and see the distribution via matplotlib. It appeared that all scores across all reads equated to a phred score of 23, which equates to a p value of 0.00501, meaning 99.499% confident of each base at each position. This indicates the data is of very high quality and does not need to be trimmed- In reality I would consider this dataset to have already been trimmed or that it is a synthetic dataset. Given the uniformity of quality scores, I'd assume the latter. The last thing I wanted to check was the GC content of each read, so again I made a histagram to assess each file. The results show GC content mainly between 30-60% with ouliers +- 10%. Considering this is RNA-seq, I'm not suprized it is skewed to a higher GC content as exons seem to have a higher GC content than introns []. However the high and low ranges were interesting to note - I assume the range here can be attributed to either sequencing bias or due to the fact that the sample is from a tumor which may express noncoding RNAs that could have GC content out of the typical range. Again, if it a synthetic dataset it leads me to be less worried about these outliers - also, per Dr. Herrera this pipeline is designed for preliminary insights into gene expression. "
   ]
  },
  {
   "cell_type": "markdown",
   "metadata": {},
   "source": [
    "Output:   \n",
    "\n",
    "File: sample1_R2.fastq, Number of reads: 19999  \n",
    "Quality scores (first 10): [23, 23, 23, 23, 23, 23, 23, 23, 23, 23]  \n",
    "Unique Quality Scores: {23}  \n",
    "Unique Read Lengths: {150}  \n",
    "Quality distribution plot saved to ./outputs/sample1_R2_quality_distribution.png  \n",
    "GC content plot saved to ./outputs/sample1_R2_gc_content_distribution.png  \n",
    "\n",
    "\n",
    "File: sample1_R1.fastq, Number of reads: 19999  \n",
    "Quality scores (first 10): [23, 23, 23, 23, 23, 23, 23, 23, 23, 23]  \n",
    "Unique Quality Scores: {23}  \n",
    "Unique Read Lengths: {150}  \n",
    "Quality distribution plot saved to ./outputs/sample1_R1_quality_distribution.png  \n",
    "GC content plot saved to ./outputs/sample1_R1_gc_content_distribution.png"
   ]
  },
  {
   "cell_type": "markdown",
   "metadata": {},
   "source": [
    "![Quality Plot for Sample1_R1](outputs/sample1_R1_quality_distribution.png)\n",
    "![Quality Plot for Sample1_R2](outputs/sample1_R2_quality_distribution.png)\n",
    "![GC Content Plot for Sample1_R1](outputs/sample1_R1_gc_content_distribution.png)\n",
    "![GC Content Plot for Sample1_R2](outputs/sample1_R2_gc_content_distribution.png)"
   ]
  },
  {
   "cell_type": "markdown",
   "metadata": {},
   "source": [
    "### Part 2\n",
    "\n",
    "I decided to use HISAT2 as the aligner to create an indexed genome and align the sequencing reads to it []. I had originally planned to use STAR but the memory requirements were pushing the limits of my machiene. Looking at lower memory options I decided to go with HISAT2 over Bowtie2 as I already had some familiarity with Bowtie2 and wanted to learn something different. I sourced my human GRCh38 fasta file and annotation file from ensmbl []. Once I ran the HISAT2-build command to index my reference genome I realized that it took a decent length of time and decided to come up with a solution to make my script more flexible, and able to be executed using a pre-made genome_index, or to be run in full (this was challenging, but a lot of fun).  \n",
    "\n",
    "The final list of unique genes with their read counts outputted to `ouputs/gene_counts.txt` (created using bedtools to intersect the bed file with annotation file) was very interesting. Here it displayed several genes linked to cancer biology, particulary TP53 and BRCA1 which had the most reads, both genes are well linked to cancer biology in the literature and have been covered in this class - functions involved in cell cycle regulation, apaptosis, angiogenesis inhibition and DNA repair. Other reads like NBR1/2, VAT1, WRAO53, DNAH2, and others were identified at lower read quantities. Some of these are also intrinsicly linked to cancer biology, which could explain why they are present in this tumor sample. however, just as likely they are present due to their proximity to the TP53 or BRCA1 loci. "
   ]
  },
  {
   "cell_type": "markdown",
   "metadata": {},
   "source": []
  }
 ],
 "metadata": {
  "language_info": {
   "name": "python"
  }
 },
 "nbformat": 4,
 "nbformat_minor": 2
}

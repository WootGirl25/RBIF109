{
 "cells": [
  {
   "cell_type": "markdown",
   "metadata": {},
   "source": [
    "## RBIF109 Final Assignment Discussion\n",
    "Laura Wooten\n",
    "\n",
    "### Part 1 \n",
    "\n",
    "The `quality_check.py` script outputs the following information for each FASTQ file: the file name, the number of sequencing reads, the quality scores for the first 10 reads, the unique quality scores, and the unique read lengths. Typically, FastQC is the standard tool used for analyzing read quality; however, the project prompt encouraged a more hands-on approach. As a result, the values printed to the console were selected based on what I deemed essential for making an initial assessment of RNA-seq data quality.\n",
    "\n",
    "In evaluating the FASTQ files, key aspects to consider include sequence quality (such as score statistics and distribution across all reads), per-base quality across reads to identify consistently low-quality regions, and read length. However, a quick inspection of the files revealed consistent quality scores and uniform read lengths across all reads. To confirm this observation, I used SeqIO to parse each read and its corresponding quality line, providing a straightforward overview of the data. The finding of uniform read lengths was unsurprising, as Illumina sequencing typically generates standardized short reads of 150 bp from paired-end sequencing [1].\n",
    "\n",
    "Analyzing the first 10 quality scores for the initial sequence yielded results consistent with a brief visual examination of the files, though it is unusual to observe such uniformity at the start of a read. Initially, I planned to visualize quality scores across each base for every read. However, I decided instead to create a preliminary representation of the overall quality scores using matplotlib to assess their distribution. The results indicated a uniform Phred score of 23 across all reads, corresponding to a p-value of 0.00501. This equates to a confidence level of 99.499% for each base at every position, signifying exceptionally high-quality data. This high quality suggests that the dataset may either have already been trimmed or could be synthetic. Given the observed uniformity in quality scores, the latter seems more likely.\n",
    "Finally, I assessed the GC content of each read by generating histograms for each file. The GC content predominantly ranged between 30–60%, with outliers extending by ±10%. For RNA-seq data, this skew toward higher GC can be explained, as exonic regions tend to have higher GC content compared to introns [2]. The presence of extreme values in the range could be attributed to sequencing bias or the tumor origin of the sample, which might include noncoding RNAs with atypical GC content. If the dataset is synthetic, these outliers are less concerning. Additionally, per Dr. Herrera's guidance, this pipeline is designed for preliminary insights into gene expression, making these observations sufficient for the current analysis."
   ]
  },
  {
   "cell_type": "markdown",
   "metadata": {},
   "source": [
    "Output:   \n",
    "\n",
    "File: sample1_R2.fastq, Number of reads: 19999  \n",
    "Quality scores (first 10): [23, 23, 23, 23, 23, 23, 23, 23, 23, 23]  \n",
    "Unique Quality Scores: {23}  \n",
    "Unique Read Lengths: {150}  \n",
    "Quality distribution plot saved to ./outputs/sample1_R2_quality_distribution.png  \n",
    "GC content plot saved to ./outputs/sample1_R2_gc_content_distribution.png  \n",
    "\n",
    "\n",
    "File: sample1_R1.fastq, Number of reads: 19999  \n",
    "Quality scores (first 10): [23, 23, 23, 23, 23, 23, 23, 23, 23, 23]  \n",
    "Unique Quality Scores: {23}  \n",
    "Unique Read Lengths: {150}  \n",
    "Quality distribution plot saved to ./outputs/sample1_R1_quality_distribution.png  \n",
    "GC content plot saved to ./outputs/sample1_R1_gc_content_distribution.png"
   ]
  },
  {
   "cell_type": "markdown",
   "metadata": {},
   "source": [
    "![Quality Plot for Sample1_R1](outputs/sample1_R1_quality_distribution.png)\n",
    "![Quality Plot for Sample1_R2](outputs/sample1_R2_quality_distribution.png)\n",
    "![GC Content Plot for Sample1_R1](outputs/sample1_R1_gc_content_distribution.png)\n",
    "![GC Content Plot for Sample1_R2](outputs/sample1_R2_gc_content_distribution.png)"
   ]
  },
  {
   "cell_type": "markdown",
   "metadata": {},
   "source": [
    "### Part 2\n",
    "\n",
    "I decided to use HISAT2 as the aligner to create an indexed genome and align the sequencing reads to it [3]. Initially, I had planned to use STAR, but the memory requirements were pushing the limits of my machine. HISAT2 emerged as a suitable alternative due to its lower memory usage. Although Bowtie2 was another option, I opted for HISAT2 to expand my skillset, as I was already familiar with Bowtie2 and wanted to learn something new. I sourced the human GRCh38 FASTA file and annotation file from Ensembl [4]. Running the HISAT2-build command to index the reference genome took a significant amount of time, which prompted me to refine my workflow. To provide flexibility, I developed a script capable of either utilizing a pre-existing genome index or executing the entire pipeline from scratch. Creating this feature was both challenging and fun.\n",
    "\n",
    "The final list of unique genes with their read counts, output to `outputs/gene_counts.txt`, was generated using bedtools to intersect the BED file with the annotation file. This resulted in several genes strongly associated with cancer biology. Among them, TP53 and BRCA1 stood out with the highest read counts. Both genes are widely recognized in the literature as crucial players in tumor suppression and are involved in key processes such as cell cycle regulation, apoptosis, angiogenesis inhibition, and DNA repair [5,6]. Their elevated expression in this tumor sample is consistent with their pivotal roles in the development and progression of cancer.\n",
    "\n",
    "Other genes, including NBR1, NBR2, VAT1, WRAP53, and DNAH2, were detected at lower read counts. While their roles are not as prominent in cancer biology as those of TP53 and BRCA1, they have functions that could potentially contribute to the tumor's molecular landscape. NBR1 and NBR2, for instance, are involved in autophagy regulation and cellular energy homeostasis, which are processes often disrupted in cancer to support rapid tumor growth [7]. VAT1 encodes a protein involved in cellular transport and repair processes, which may be involved in the tumor's adaptive mechanisms [8]. WRAP53, known for its roles in DNA repair and telomere maintenance, could help sustain the tumor's genomic stability [9]. DNAH2s functions in cellular motility, which could possibly correlate to alterations in cellular architecture, a distinctive feature of aggressive tumors [10].\n",
    "\n",
    "Interestingly, the presence of these additional genes might be attributed to their proximity to the TP53 or BRCA1 loci in the genome, suggesting that their detection could be a result of co-expression or local transcriptional activity rather than direct involvement in tumorigenesis.\n",
    "\n",
    "Per the project instructions, this pipeline was designed to provide preliminary insights into gene expression within a tumor sample, focusing on aligning sequencing reads and identifying expressed genes. While I believe my pipeline successfully fulfilled its purpose, producing a list of expressed genes and visualizations in IGV, there are many opportunities for refinement and used for further insights. For a more comprehensive analysis of this sample, additional steps could be taken, such as incorporating differential expression analysis to compare this tumor's gene expression profile against normal tissue or other tumor samples. This would help identify genes that are uniquely up- or downregulated. Also, extending the analysis to the other tumor samples in the dataset would allow for comparative studies, which could uncover patterns of gene expression across patients or reveal patient-specific variations. Integrating additional tools, such as STAR or Salmon, could enhance the pipeline by providing alternative alignments, which could act to complement the results obtained from HISAT2. "
   ]
  },
  {
   "cell_type": "markdown",
   "metadata": {},
   "source": [
    "![BRCA1 closeup](outputs/BRCA1_closeup.png)\n",
    "![BRCA1 coverage](outputs/BRCA1_coverage.png)\n",
    "![BRCA1 another snapshot](outputs/BRCA1_snapshot.png)\n",
    "![TP53](outputs/TP53_coverage.png)\n",
    "\n"
   ]
  },
  {
   "cell_type": "markdown",
   "metadata": {},
   "source": [
    "1. llumina Inc. (n.d.). Read length recommendations for next-generation sequencing experiments. Retrieved from https://www.illumina.com/science/technology/next-generation-sequencing/plan-experiments/read-length.html\n",
    "\n",
    "2. Muers, M. (2009, October). A peak for exons. Nature Reviews Genetics, 10. Published online September 8, 2009. https://doi.org/10.1038/nrg2669\n",
    "\n",
    "3. Kim, D., Langmead, B., & Salzberg, S. L. (2015). HISAT: A fast spliced aligner with low memory requirements. Nature Methods.\n",
    "\n",
    "4. Ensembl Genome Browser. (n.d.). Ensembl release 113. Retrieved from https://www.ensembl.org\n",
    "\n",
    "5. Marei, H. E., Althani, A., Afifi, N., & et al. (2021). p53 signaling in cancer progression and therapy. Cancer Cell International, 21(703). https://doi.org/10.1186/s12935-021-02396-8\n",
    "\n",
    "6. Gorodetska, I., Kozeretska, I., & Dubrovska, A. (2019). BRCA genes: The role in genome stability, cancer stemness and therapy resistance. Journal of Cancer, 10(9), 2109–2127. https://doi.org/10.7150/jca.30410\n",
    "\n",
    "7. Xiao, Z. D., Liu, X., Zhuang, L., & Gan, B. (2016). NBR2: A former junk gene emerges as a key player in tumor suppression. Molecular Cell Oncology, 3(4), e1187322. https://doi.org/10.1080/23723556.2016.1187322\n",
    "\n",
    "8. Kim, S. Y., Mori, T., Chek, M. F., & et al. (2021). Structural insights into vesicle amine transport-1 (VAT-1) as a member of the NADPH-dependent quinone oxidoreductase family. Scientific Reports, 11(2120). https://doi.org/10.1038/s41598-021-81409-y\n",
    "\n",
    "9. Gadelha, R. B., Machado, C. B., Pessoa, F. M. C. P., Pantoja, L. D. C., Barreto, I. V., Ribeiro, R. M., de Moraes Filho, M. O., de Moraes, M. E. A., Khayat, A. S., & Moreira-Nunes, C. A. (2022). The role of WRAP53 in cell homeostasis and carcinogenesis onset. Current Issues in Molecular Biology, 44(11), 5498–5515. https://doi.org/10.3390/cimb44110372\n",
    "\n",
    "10. Biology Insights. (n.d.). Subclonal variations and tumor progression in modern oncology. Retrieved from https://biologyinsights.com/subclonal-variations-and-tumor-progression-in-modern-oncology/"
   ]
  },
  {
   "cell_type": "markdown",
   "metadata": {},
   "source": []
  }
 ],
 "metadata": {
  "language_info": {
   "name": "python"
  }
 },
 "nbformat": 4,
 "nbformat_minor": 2
}
